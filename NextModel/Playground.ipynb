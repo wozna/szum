{
 "cells": [
  {
   "cell_type": "code",
   "execution_count": 2,
   "metadata": {
    "collapsed": true,
    "pycharm": {
     "is_executing": false
    }
   },
   "outputs": [
    {
     "name": "stderr",
     "text": [
      "Using TensorFlow backend.\n"
     ],
     "output_type": "stream"
    },
    {
     "traceback": [
      "\u001b[1;31m---------------------------------------------------------------------------\u001b[0m",
      "\u001b[1;31mKeyboardInterrupt\u001b[0m                         Traceback (most recent call last)",
      "\u001b[1;32m<ipython-input-2-c40a00e10896>\u001b[0m in \u001b[0;36m<module>\u001b[1;34m\u001b[0m\n\u001b[1;32m----> 1\u001b[1;33m \u001b[1;32mimport\u001b[0m \u001b[0mkeras\u001b[0m\u001b[1;33m\u001b[0m\u001b[1;33m\u001b[0m\u001b[0m\n\u001b[0m\u001b[0;32m      2\u001b[0m \u001b[1;32mimport\u001b[0m \u001b[0mlibrosa\u001b[0m\u001b[1;33m\u001b[0m\u001b[1;33m\u001b[0m\u001b[0m\n\u001b[0;32m      3\u001b[0m \u001b[1;32mimport\u001b[0m \u001b[0mpython_speech_features\u001b[0m\u001b[1;33m\u001b[0m\u001b[1;33m\u001b[0m\u001b[0m\n\u001b[0;32m      4\u001b[0m \u001b[1;32mfrom\u001b[0m \u001b[0mscipy\u001b[0m\u001b[1;33m.\u001b[0m\u001b[0mio\u001b[0m \u001b[1;32mimport\u001b[0m \u001b[0mwavfile\u001b[0m\u001b[1;33m\u001b[0m\u001b[1;33m\u001b[0m\u001b[0m\n\u001b[0;32m      5\u001b[0m \u001b[1;32mimport\u001b[0m \u001b[0mnumpy\u001b[0m \u001b[1;32mas\u001b[0m \u001b[0mnp\u001b[0m\u001b[1;33m\u001b[0m\u001b[1;33m\u001b[0m\u001b[0m\n",
      "\u001b[1;32md:\\a__a\\projects\\szum\\venv\\lib\\site-packages\\keras\\__init__.py\u001b[0m in \u001b[0;36m<module>\u001b[1;34m\u001b[0m\n\u001b[0;32m      1\u001b[0m \u001b[1;32mfrom\u001b[0m \u001b[0m__future__\u001b[0m \u001b[1;32mimport\u001b[0m \u001b[0mabsolute_import\u001b[0m\u001b[1;33m\u001b[0m\u001b[1;33m\u001b[0m\u001b[0m\n\u001b[0;32m      2\u001b[0m \u001b[1;33m\u001b[0m\u001b[0m\n\u001b[1;32m----> 3\u001b[1;33m \u001b[1;32mfrom\u001b[0m \u001b[1;33m.\u001b[0m \u001b[1;32mimport\u001b[0m \u001b[0mutils\u001b[0m\u001b[1;33m\u001b[0m\u001b[1;33m\u001b[0m\u001b[0m\n\u001b[0m\u001b[0;32m      4\u001b[0m \u001b[1;32mfrom\u001b[0m \u001b[1;33m.\u001b[0m \u001b[1;32mimport\u001b[0m \u001b[0mactivations\u001b[0m\u001b[1;33m\u001b[0m\u001b[1;33m\u001b[0m\u001b[0m\n\u001b[0;32m      5\u001b[0m \u001b[1;32mfrom\u001b[0m \u001b[1;33m.\u001b[0m \u001b[1;32mimport\u001b[0m \u001b[0mapplications\u001b[0m\u001b[1;33m\u001b[0m\u001b[1;33m\u001b[0m\u001b[0m\n",
      "\u001b[1;32md:\\a__a\\projects\\szum\\venv\\lib\\site-packages\\keras\\utils\\__init__.py\u001b[0m in \u001b[0;36m<module>\u001b[1;34m\u001b[0m\n\u001b[0;32m      4\u001b[0m \u001b[1;32mfrom\u001b[0m \u001b[1;33m.\u001b[0m \u001b[1;32mimport\u001b[0m \u001b[0mdata_utils\u001b[0m\u001b[1;33m\u001b[0m\u001b[1;33m\u001b[0m\u001b[0m\n\u001b[0;32m      5\u001b[0m \u001b[1;32mfrom\u001b[0m \u001b[1;33m.\u001b[0m \u001b[1;32mimport\u001b[0m \u001b[0mio_utils\u001b[0m\u001b[1;33m\u001b[0m\u001b[1;33m\u001b[0m\u001b[0m\n\u001b[1;32m----> 6\u001b[1;33m \u001b[1;32mfrom\u001b[0m \u001b[1;33m.\u001b[0m \u001b[1;32mimport\u001b[0m \u001b[0mconv_utils\u001b[0m\u001b[1;33m\u001b[0m\u001b[1;33m\u001b[0m\u001b[0m\n\u001b[0m\u001b[0;32m      7\u001b[0m \u001b[1;32mfrom\u001b[0m \u001b[1;33m.\u001b[0m \u001b[1;32mimport\u001b[0m \u001b[0mlosses_utils\u001b[0m\u001b[1;33m\u001b[0m\u001b[1;33m\u001b[0m\u001b[0m\n\u001b[0;32m      8\u001b[0m \u001b[1;32mfrom\u001b[0m \u001b[1;33m.\u001b[0m \u001b[1;32mimport\u001b[0m \u001b[0mmetrics_utils\u001b[0m\u001b[1;33m\u001b[0m\u001b[1;33m\u001b[0m\u001b[0m\n",
      "\u001b[1;32md:\\a__a\\projects\\szum\\venv\\lib\\site-packages\\keras\\utils\\conv_utils.py\u001b[0m in \u001b[0;36m<module>\u001b[1;34m\u001b[0m\n\u001b[0;32m      7\u001b[0m \u001b[1;32mfrom\u001b[0m \u001b[0msix\u001b[0m\u001b[1;33m.\u001b[0m\u001b[0mmoves\u001b[0m \u001b[1;32mimport\u001b[0m \u001b[0mrange\u001b[0m\u001b[1;33m\u001b[0m\u001b[1;33m\u001b[0m\u001b[0m\n\u001b[0;32m      8\u001b[0m \u001b[1;32mimport\u001b[0m \u001b[0mnumpy\u001b[0m \u001b[1;32mas\u001b[0m \u001b[0mnp\u001b[0m\u001b[1;33m\u001b[0m\u001b[1;33m\u001b[0m\u001b[0m\n\u001b[1;32m----> 9\u001b[1;33m \u001b[1;32mfrom\u001b[0m \u001b[1;33m.\u001b[0m\u001b[1;33m.\u001b[0m \u001b[1;32mimport\u001b[0m \u001b[0mbackend\u001b[0m \u001b[1;32mas\u001b[0m \u001b[0mK\u001b[0m\u001b[1;33m\u001b[0m\u001b[1;33m\u001b[0m\u001b[0m\n\u001b[0m\u001b[0;32m     10\u001b[0m \u001b[1;33m\u001b[0m\u001b[0m\n\u001b[0;32m     11\u001b[0m \u001b[1;33m\u001b[0m\u001b[0m\n",
      "\u001b[1;32md:\\a__a\\projects\\szum\\venv\\lib\\site-packages\\keras\\backend\\__init__.py\u001b[0m in \u001b[0;36m<module>\u001b[1;34m\u001b[0m\n\u001b[1;32m----> 1\u001b[1;33m \u001b[1;32mfrom\u001b[0m \u001b[1;33m.\u001b[0m\u001b[0mload_backend\u001b[0m \u001b[1;32mimport\u001b[0m \u001b[0mepsilon\u001b[0m\u001b[1;33m\u001b[0m\u001b[1;33m\u001b[0m\u001b[0m\n\u001b[0m\u001b[0;32m      2\u001b[0m \u001b[1;32mfrom\u001b[0m \u001b[1;33m.\u001b[0m\u001b[0mload_backend\u001b[0m \u001b[1;32mimport\u001b[0m \u001b[0mset_epsilon\u001b[0m\u001b[1;33m\u001b[0m\u001b[1;33m\u001b[0m\u001b[0m\n\u001b[0;32m      3\u001b[0m \u001b[1;32mfrom\u001b[0m \u001b[1;33m.\u001b[0m\u001b[0mload_backend\u001b[0m \u001b[1;32mimport\u001b[0m \u001b[0mfloatx\u001b[0m\u001b[1;33m\u001b[0m\u001b[1;33m\u001b[0m\u001b[0m\n\u001b[0;32m      4\u001b[0m \u001b[1;32mfrom\u001b[0m \u001b[1;33m.\u001b[0m\u001b[0mload_backend\u001b[0m \u001b[1;32mimport\u001b[0m \u001b[0mset_floatx\u001b[0m\u001b[1;33m\u001b[0m\u001b[1;33m\u001b[0m\u001b[0m\n\u001b[0;32m      5\u001b[0m \u001b[1;32mfrom\u001b[0m \u001b[1;33m.\u001b[0m\u001b[0mload_backend\u001b[0m \u001b[1;32mimport\u001b[0m \u001b[0mcast_to_floatx\u001b[0m\u001b[1;33m\u001b[0m\u001b[1;33m\u001b[0m\u001b[0m\n",
      "\u001b[1;32md:\\a__a\\projects\\szum\\venv\\lib\\site-packages\\keras\\backend\\load_backend.py\u001b[0m in \u001b[0;36m<module>\u001b[1;34m\u001b[0m\n\u001b[0;32m     88\u001b[0m \u001b[1;32melif\u001b[0m \u001b[0m_BACKEND\u001b[0m \u001b[1;33m==\u001b[0m \u001b[1;34m'tensorflow'\u001b[0m\u001b[1;33m:\u001b[0m\u001b[1;33m\u001b[0m\u001b[1;33m\u001b[0m\u001b[0m\n\u001b[0;32m     89\u001b[0m     \u001b[0msys\u001b[0m\u001b[1;33m.\u001b[0m\u001b[0mstderr\u001b[0m\u001b[1;33m.\u001b[0m\u001b[0mwrite\u001b[0m\u001b[1;33m(\u001b[0m\u001b[1;34m'Using TensorFlow backend.\\n'\u001b[0m\u001b[1;33m)\u001b[0m\u001b[1;33m\u001b[0m\u001b[1;33m\u001b[0m\u001b[0m\n\u001b[1;32m---> 90\u001b[1;33m     \u001b[1;32mfrom\u001b[0m \u001b[1;33m.\u001b[0m\u001b[0mtensorflow_backend\u001b[0m \u001b[1;32mimport\u001b[0m \u001b[1;33m*\u001b[0m\u001b[1;33m\u001b[0m\u001b[1;33m\u001b[0m\u001b[0m\n\u001b[0m\u001b[0;32m     91\u001b[0m \u001b[1;32melse\u001b[0m\u001b[1;33m:\u001b[0m\u001b[1;33m\u001b[0m\u001b[1;33m\u001b[0m\u001b[0m\n\u001b[0;32m     92\u001b[0m     \u001b[1;31m# Try and load external backend.\u001b[0m\u001b[1;33m\u001b[0m\u001b[1;33m\u001b[0m\u001b[1;33m\u001b[0m\u001b[0m\n",
      "\u001b[1;32md:\\a__a\\projects\\szum\\venv\\lib\\site-packages\\keras\\backend\\tensorflow_backend.py\u001b[0m in \u001b[0;36m<module>\u001b[1;34m\u001b[0m\n\u001b[0;32m      3\u001b[0m \u001b[1;32mfrom\u001b[0m \u001b[0m__future__\u001b[0m \u001b[1;32mimport\u001b[0m \u001b[0mprint_function\u001b[0m\u001b[1;33m\u001b[0m\u001b[1;33m\u001b[0m\u001b[0m\n\u001b[0;32m      4\u001b[0m \u001b[1;33m\u001b[0m\u001b[0m\n\u001b[1;32m----> 5\u001b[1;33m \u001b[1;32mimport\u001b[0m \u001b[0mtensorflow\u001b[0m \u001b[1;32mas\u001b[0m \u001b[0mtf\u001b[0m\u001b[1;33m\u001b[0m\u001b[1;33m\u001b[0m\u001b[0m\n\u001b[0m\u001b[0;32m      6\u001b[0m \u001b[1;32mfrom\u001b[0m \u001b[0mtensorflow\u001b[0m\u001b[1;33m.\u001b[0m\u001b[0mpython\u001b[0m\u001b[1;33m.\u001b[0m\u001b[0meager\u001b[0m \u001b[1;32mimport\u001b[0m \u001b[0mcontext\u001b[0m\u001b[1;33m\u001b[0m\u001b[1;33m\u001b[0m\u001b[0m\n\u001b[0;32m      7\u001b[0m \u001b[1;32mfrom\u001b[0m \u001b[0mtensorflow\u001b[0m\u001b[1;33m.\u001b[0m\u001b[0mpython\u001b[0m\u001b[1;33m.\u001b[0m\u001b[0mframework\u001b[0m \u001b[1;32mimport\u001b[0m \u001b[0mdevice\u001b[0m \u001b[1;32mas\u001b[0m \u001b[0mtfdev\u001b[0m\u001b[1;33m\u001b[0m\u001b[1;33m\u001b[0m\u001b[0m\n",
      "\u001b[1;32md:\\a__a\\projects\\szum\\venv\\lib\\site-packages\\tensorflow\\__init__.py\u001b[0m in \u001b[0;36m<module>\u001b[1;34m\u001b[0m\n\u001b[0;32m     39\u001b[0m \u001b[1;32mimport\u001b[0m \u001b[0msys\u001b[0m \u001b[1;32mas\u001b[0m \u001b[0m_sys\u001b[0m\u001b[1;33m\u001b[0m\u001b[1;33m\u001b[0m\u001b[0m\n\u001b[0;32m     40\u001b[0m \u001b[1;33m\u001b[0m\u001b[0m\n\u001b[1;32m---> 41\u001b[1;33m \u001b[1;32mfrom\u001b[0m \u001b[0mtensorflow\u001b[0m\u001b[1;33m.\u001b[0m\u001b[0mpython\u001b[0m\u001b[1;33m.\u001b[0m\u001b[0mtools\u001b[0m \u001b[1;32mimport\u001b[0m \u001b[0mmodule_util\u001b[0m \u001b[1;32mas\u001b[0m \u001b[0m_module_util\u001b[0m\u001b[1;33m\u001b[0m\u001b[1;33m\u001b[0m\u001b[0m\n\u001b[0m\u001b[0;32m     42\u001b[0m \u001b[1;32mfrom\u001b[0m \u001b[0mtensorflow\u001b[0m\u001b[1;33m.\u001b[0m\u001b[0mpython\u001b[0m\u001b[1;33m.\u001b[0m\u001b[0mutil\u001b[0m\u001b[1;33m.\u001b[0m\u001b[0mlazy_loader\u001b[0m \u001b[1;32mimport\u001b[0m \u001b[0mLazyLoader\u001b[0m \u001b[1;32mas\u001b[0m \u001b[0m_LazyLoader\u001b[0m\u001b[1;33m\u001b[0m\u001b[1;33m\u001b[0m\u001b[0m\n\u001b[0;32m     43\u001b[0m \u001b[1;33m\u001b[0m\u001b[0m\n",
      "\u001b[1;32md:\\a__a\\projects\\szum\\venv\\lib\\site-packages\\tensorflow\\python\\__init__.py\u001b[0m in \u001b[0;36m<module>\u001b[1;34m\u001b[0m\n\u001b[0;32m     72\u001b[0m \u001b[1;33m\u001b[0m\u001b[0m\n\u001b[0;32m     73\u001b[0m \u001b[1;31m# Ops\u001b[0m\u001b[1;33m\u001b[0m\u001b[1;33m\u001b[0m\u001b[1;33m\u001b[0m\u001b[0m\n\u001b[1;32m---> 74\u001b[1;33m \u001b[1;32mfrom\u001b[0m \u001b[0mtensorflow\u001b[0m\u001b[1;33m.\u001b[0m\u001b[0mpython\u001b[0m\u001b[1;33m.\u001b[0m\u001b[0mops\u001b[0m\u001b[1;33m.\u001b[0m\u001b[0mstandard_ops\u001b[0m \u001b[1;32mimport\u001b[0m \u001b[1;33m*\u001b[0m\u001b[1;33m\u001b[0m\u001b[1;33m\u001b[0m\u001b[0m\n\u001b[0m\u001b[0;32m     75\u001b[0m \u001b[1;33m\u001b[0m\u001b[0m\n\u001b[0;32m     76\u001b[0m \u001b[1;31m# Namespaces\u001b[0m\u001b[1;33m\u001b[0m\u001b[1;33m\u001b[0m\u001b[1;33m\u001b[0m\u001b[0m\n",
      "\u001b[1;32md:\\a__a\\projects\\szum\\venv\\lib\\site-packages\\tensorflow\\python\\ops\\standard_ops.py\u001b[0m in \u001b[0;36m<module>\u001b[1;34m\u001b[0m\n\u001b[0;32m     24\u001b[0m \u001b[1;32mimport\u001b[0m \u001b[0msys\u001b[0m \u001b[1;32mas\u001b[0m \u001b[0m_sys\u001b[0m\u001b[1;33m\u001b[0m\u001b[1;33m\u001b[0m\u001b[0m\n\u001b[0;32m     25\u001b[0m \u001b[1;33m\u001b[0m\u001b[0m\n\u001b[1;32m---> 26\u001b[1;33m \u001b[1;32mfrom\u001b[0m \u001b[0mtensorflow\u001b[0m\u001b[1;33m.\u001b[0m\u001b[0mpython\u001b[0m \u001b[1;32mimport\u001b[0m \u001b[0mautograph\u001b[0m\u001b[1;33m\u001b[0m\u001b[1;33m\u001b[0m\u001b[0m\n\u001b[0m\u001b[0;32m     27\u001b[0m \u001b[1;32mfrom\u001b[0m \u001b[0mtensorflow\u001b[0m\u001b[1;33m.\u001b[0m\u001b[0mpython\u001b[0m\u001b[1;33m.\u001b[0m\u001b[0mtraining\u001b[0m\u001b[1;33m.\u001b[0m\u001b[0mexperimental\u001b[0m \u001b[1;32mimport\u001b[0m \u001b[0mloss_scaling_gradient_tape\u001b[0m\u001b[1;33m\u001b[0m\u001b[1;33m\u001b[0m\u001b[0m\n\u001b[0;32m     28\u001b[0m \u001b[1;33m\u001b[0m\u001b[0m\n",
      "\u001b[1;32md:\\a__a\\projects\\szum\\venv\\lib\\site-packages\\tensorflow\\python\\autograph\\__init__.py\u001b[0m in \u001b[0;36m<module>\u001b[1;34m\u001b[0m\n\u001b[0;32m     33\u001b[0m \u001b[1;33m\u001b[0m\u001b[0m\n\u001b[0;32m     34\u001b[0m \u001b[1;31m# TODO(mdan): Bring only the relevant symbols to the top level.\u001b[0m\u001b[1;33m\u001b[0m\u001b[1;33m\u001b[0m\u001b[1;33m\u001b[0m\u001b[0m\n\u001b[1;32m---> 35\u001b[1;33m \u001b[1;32mfrom\u001b[0m \u001b[0mtensorflow\u001b[0m\u001b[1;33m.\u001b[0m\u001b[0mpython\u001b[0m\u001b[1;33m.\u001b[0m\u001b[0mautograph\u001b[0m \u001b[1;32mimport\u001b[0m \u001b[0moperators\u001b[0m\u001b[1;33m\u001b[0m\u001b[1;33m\u001b[0m\u001b[0m\n\u001b[0m\u001b[0;32m     36\u001b[0m \u001b[1;32mfrom\u001b[0m \u001b[0mtensorflow\u001b[0m\u001b[1;33m.\u001b[0m\u001b[0mpython\u001b[0m\u001b[1;33m.\u001b[0m\u001b[0mautograph\u001b[0m \u001b[1;32mimport\u001b[0m \u001b[0mutils\u001b[0m\u001b[1;33m\u001b[0m\u001b[1;33m\u001b[0m\u001b[0m\n\u001b[0;32m     37\u001b[0m \u001b[1;32mfrom\u001b[0m \u001b[0mtensorflow\u001b[0m\u001b[1;33m.\u001b[0m\u001b[0mpython\u001b[0m\u001b[1;33m.\u001b[0m\u001b[0mautograph\u001b[0m\u001b[1;33m.\u001b[0m\u001b[0mcore\u001b[0m\u001b[1;33m.\u001b[0m\u001b[0mconverter\u001b[0m \u001b[1;32mimport\u001b[0m \u001b[0mConversionOptions\u001b[0m\u001b[1;33m\u001b[0m\u001b[1;33m\u001b[0m\u001b[0m\n",
      "\u001b[1;32md:\\a__a\\projects\\szum\\venv\\lib\\site-packages\\tensorflow\\python\\autograph\\operators\\__init__.py\u001b[0m in \u001b[0;36m<module>\u001b[1;34m\u001b[0m\n\u001b[0;32m     38\u001b[0m \u001b[1;32mfrom\u001b[0m \u001b[0m__future__\u001b[0m \u001b[1;32mimport\u001b[0m \u001b[0mprint_function\u001b[0m\u001b[1;33m\u001b[0m\u001b[1;33m\u001b[0m\u001b[0m\n\u001b[0;32m     39\u001b[0m \u001b[1;33m\u001b[0m\u001b[0m\n\u001b[1;32m---> 40\u001b[1;33m \u001b[1;32mfrom\u001b[0m \u001b[0mtensorflow\u001b[0m\u001b[1;33m.\u001b[0m\u001b[0mpython\u001b[0m\u001b[1;33m.\u001b[0m\u001b[0mautograph\u001b[0m\u001b[1;33m.\u001b[0m\u001b[0moperators\u001b[0m\u001b[1;33m.\u001b[0m\u001b[0mcontrol_flow\u001b[0m \u001b[1;32mimport\u001b[0m \u001b[0mfor_stmt\u001b[0m\u001b[1;33m\u001b[0m\u001b[1;33m\u001b[0m\u001b[0m\n\u001b[0m\u001b[0;32m     41\u001b[0m \u001b[1;32mfrom\u001b[0m \u001b[0mtensorflow\u001b[0m\u001b[1;33m.\u001b[0m\u001b[0mpython\u001b[0m\u001b[1;33m.\u001b[0m\u001b[0mautograph\u001b[0m\u001b[1;33m.\u001b[0m\u001b[0moperators\u001b[0m\u001b[1;33m.\u001b[0m\u001b[0mcontrol_flow\u001b[0m \u001b[1;32mimport\u001b[0m \u001b[0mif_stmt\u001b[0m\u001b[1;33m\u001b[0m\u001b[1;33m\u001b[0m\u001b[0m\n\u001b[0;32m     42\u001b[0m \u001b[1;32mfrom\u001b[0m \u001b[0mtensorflow\u001b[0m\u001b[1;33m.\u001b[0m\u001b[0mpython\u001b[0m\u001b[1;33m.\u001b[0m\u001b[0mautograph\u001b[0m\u001b[1;33m.\u001b[0m\u001b[0moperators\u001b[0m\u001b[1;33m.\u001b[0m\u001b[0mcontrol_flow\u001b[0m \u001b[1;32mimport\u001b[0m \u001b[0mwhile_stmt\u001b[0m\u001b[1;33m\u001b[0m\u001b[1;33m\u001b[0m\u001b[0m\n",
      "\u001b[1;32md:\\a__a\\projects\\szum\\venv\\lib\\site-packages\\tensorflow\\python\\autograph\\operators\\control_flow.py\u001b[0m in \u001b[0;36m<module>\u001b[1;34m\u001b[0m\n\u001b[0;32m     65\u001b[0m \u001b[1;32mimport\u001b[0m \u001b[0mnumpy\u001b[0m \u001b[1;32mas\u001b[0m \u001b[0mnp\u001b[0m\u001b[1;33m\u001b[0m\u001b[1;33m\u001b[0m\u001b[0m\n\u001b[0;32m     66\u001b[0m \u001b[1;33m\u001b[0m\u001b[0m\n\u001b[1;32m---> 67\u001b[1;33m \u001b[1;32mfrom\u001b[0m \u001b[0mtensorflow\u001b[0m\u001b[1;33m.\u001b[0m\u001b[0mpython\u001b[0m\u001b[1;33m.\u001b[0m\u001b[0mautograph\u001b[0m\u001b[1;33m.\u001b[0m\u001b[0moperators\u001b[0m \u001b[1;32mimport\u001b[0m \u001b[0mpy_builtins\u001b[0m\u001b[1;33m\u001b[0m\u001b[1;33m\u001b[0m\u001b[0m\n\u001b[0m\u001b[0;32m     68\u001b[0m \u001b[1;32mfrom\u001b[0m \u001b[0mtensorflow\u001b[0m\u001b[1;33m.\u001b[0m\u001b[0mpython\u001b[0m\u001b[1;33m.\u001b[0m\u001b[0mautograph\u001b[0m\u001b[1;33m.\u001b[0m\u001b[0moperators\u001b[0m \u001b[1;32mimport\u001b[0m \u001b[0mspecial_values\u001b[0m\u001b[1;33m\u001b[0m\u001b[1;33m\u001b[0m\u001b[0m\n\u001b[0;32m     69\u001b[0m \u001b[1;32mfrom\u001b[0m \u001b[0mtensorflow\u001b[0m\u001b[1;33m.\u001b[0m\u001b[0mpython\u001b[0m\u001b[1;33m.\u001b[0m\u001b[0mautograph\u001b[0m\u001b[1;33m.\u001b[0m\u001b[0mutils\u001b[0m \u001b[1;32mimport\u001b[0m \u001b[0mag_logging\u001b[0m\u001b[1;33m\u001b[0m\u001b[1;33m\u001b[0m\u001b[0m\n",
      "\u001b[1;32md:\\a__a\\projects\\szum\\venv\\lib\\site-packages\\tensorflow\\python\\autograph\\operators\\py_builtins.py\u001b[0m in \u001b[0;36m<module>\u001b[1;34m\u001b[0m\n\u001b[0;32m     28\u001b[0m \u001b[1;32mfrom\u001b[0m \u001b[0mtensorflow\u001b[0m\u001b[1;33m.\u001b[0m\u001b[0mpython\u001b[0m\u001b[1;33m.\u001b[0m\u001b[0mautograph\u001b[0m\u001b[1;33m.\u001b[0m\u001b[0mutils\u001b[0m \u001b[1;32mimport\u001b[0m \u001b[0mpy_func\u001b[0m\u001b[1;33m\u001b[0m\u001b[1;33m\u001b[0m\u001b[0m\n\u001b[0;32m     29\u001b[0m \u001b[1;32mfrom\u001b[0m \u001b[0mtensorflow\u001b[0m\u001b[1;33m.\u001b[0m\u001b[0mpython\u001b[0m\u001b[1;33m.\u001b[0m\u001b[0mautograph\u001b[0m\u001b[1;33m.\u001b[0m\u001b[0mutils\u001b[0m \u001b[1;32mimport\u001b[0m \u001b[0mtensors\u001b[0m\u001b[1;33m\u001b[0m\u001b[1;33m\u001b[0m\u001b[0m\n\u001b[1;32m---> 30\u001b[1;33m \u001b[1;32mfrom\u001b[0m \u001b[0mtensorflow\u001b[0m\u001b[1;33m.\u001b[0m\u001b[0mpython\u001b[0m\u001b[1;33m.\u001b[0m\u001b[0mdata\u001b[0m\u001b[1;33m.\u001b[0m\u001b[0mops\u001b[0m \u001b[1;32mimport\u001b[0m \u001b[0mdataset_ops\u001b[0m\u001b[1;33m\u001b[0m\u001b[1;33m\u001b[0m\u001b[0m\n\u001b[0m\u001b[0;32m     31\u001b[0m \u001b[1;32mfrom\u001b[0m \u001b[0mtensorflow\u001b[0m\u001b[1;33m.\u001b[0m\u001b[0mpython\u001b[0m\u001b[1;33m.\u001b[0m\u001b[0mframework\u001b[0m \u001b[1;32mimport\u001b[0m \u001b[0mconstant_op\u001b[0m\u001b[1;33m\u001b[0m\u001b[1;33m\u001b[0m\u001b[0m\n\u001b[0;32m     32\u001b[0m \u001b[1;32mfrom\u001b[0m \u001b[0mtensorflow\u001b[0m\u001b[1;33m.\u001b[0m\u001b[0mpython\u001b[0m\u001b[1;33m.\u001b[0m\u001b[0mframework\u001b[0m \u001b[1;32mimport\u001b[0m \u001b[0mdtypes\u001b[0m\u001b[1;33m\u001b[0m\u001b[1;33m\u001b[0m\u001b[0m\n",
      "\u001b[1;32md:\\a__a\\projects\\szum\\venv\\lib\\site-packages\\tensorflow\\python\\data\\__init__.py\u001b[0m in \u001b[0;36m<module>\u001b[1;34m\u001b[0m\n\u001b[0;32m     23\u001b[0m \u001b[1;33m\u001b[0m\u001b[0m\n\u001b[0;32m     24\u001b[0m \u001b[1;31m# pylint: disable=unused-import\u001b[0m\u001b[1;33m\u001b[0m\u001b[1;33m\u001b[0m\u001b[1;33m\u001b[0m\u001b[0m\n\u001b[1;32m---> 25\u001b[1;33m \u001b[1;32mfrom\u001b[0m \u001b[0mtensorflow\u001b[0m\u001b[1;33m.\u001b[0m\u001b[0mpython\u001b[0m\u001b[1;33m.\u001b[0m\u001b[0mdata\u001b[0m \u001b[1;32mimport\u001b[0m \u001b[0mexperimental\u001b[0m\u001b[1;33m\u001b[0m\u001b[1;33m\u001b[0m\u001b[0m\n\u001b[0m\u001b[0;32m     26\u001b[0m \u001b[1;32mfrom\u001b[0m \u001b[0mtensorflow\u001b[0m\u001b[1;33m.\u001b[0m\u001b[0mpython\u001b[0m\u001b[1;33m.\u001b[0m\u001b[0mdata\u001b[0m\u001b[1;33m.\u001b[0m\u001b[0mops\u001b[0m\u001b[1;33m.\u001b[0m\u001b[0mdataset_ops\u001b[0m \u001b[1;32mimport\u001b[0m \u001b[0mDataset\u001b[0m\u001b[1;33m\u001b[0m\u001b[1;33m\u001b[0m\u001b[0m\n\u001b[0;32m     27\u001b[0m \u001b[1;32mfrom\u001b[0m \u001b[0mtensorflow\u001b[0m\u001b[1;33m.\u001b[0m\u001b[0mpython\u001b[0m\u001b[1;33m.\u001b[0m\u001b[0mdata\u001b[0m\u001b[1;33m.\u001b[0m\u001b[0mops\u001b[0m\u001b[1;33m.\u001b[0m\u001b[0mdataset_ops\u001b[0m \u001b[1;32mimport\u001b[0m \u001b[0mmake_initializable_iterator\u001b[0m\u001b[1;33m\u001b[0m\u001b[1;33m\u001b[0m\u001b[0m\n",
      "\u001b[1;32md:\\a__a\\projects\\szum\\venv\\lib\\site-packages\\tensorflow\\python\\data\\experimental\\__init__.py\u001b[0m in \u001b[0;36m<module>\u001b[1;34m\u001b[0m\n\u001b[0;32m     90\u001b[0m \u001b[1;33m\u001b[0m\u001b[0m\n\u001b[0;32m     91\u001b[0m \u001b[1;31m# pylint: disable=unused-import\u001b[0m\u001b[1;33m\u001b[0m\u001b[1;33m\u001b[0m\u001b[1;33m\u001b[0m\u001b[0m\n\u001b[1;32m---> 92\u001b[1;33m \u001b[1;32mfrom\u001b[0m \u001b[0mtensorflow\u001b[0m\u001b[1;33m.\u001b[0m\u001b[0mpython\u001b[0m\u001b[1;33m.\u001b[0m\u001b[0mdata\u001b[0m\u001b[1;33m.\u001b[0m\u001b[0mexperimental\u001b[0m\u001b[1;33m.\u001b[0m\u001b[0mops\u001b[0m\u001b[1;33m.\u001b[0m\u001b[0mbatching\u001b[0m \u001b[1;32mimport\u001b[0m \u001b[0mdense_to_ragged_batch\u001b[0m\u001b[1;33m\u001b[0m\u001b[1;33m\u001b[0m\u001b[0m\n\u001b[0m\u001b[0;32m     93\u001b[0m \u001b[1;32mfrom\u001b[0m \u001b[0mtensorflow\u001b[0m\u001b[1;33m.\u001b[0m\u001b[0mpython\u001b[0m\u001b[1;33m.\u001b[0m\u001b[0mdata\u001b[0m\u001b[1;33m.\u001b[0m\u001b[0mexperimental\u001b[0m\u001b[1;33m.\u001b[0m\u001b[0mops\u001b[0m\u001b[1;33m.\u001b[0m\u001b[0mbatching\u001b[0m \u001b[1;32mimport\u001b[0m \u001b[0mdense_to_sparse_batch\u001b[0m\u001b[1;33m\u001b[0m\u001b[1;33m\u001b[0m\u001b[0m\n\u001b[0;32m     94\u001b[0m \u001b[1;32mfrom\u001b[0m \u001b[0mtensorflow\u001b[0m\u001b[1;33m.\u001b[0m\u001b[0mpython\u001b[0m\u001b[1;33m.\u001b[0m\u001b[0mdata\u001b[0m\u001b[1;33m.\u001b[0m\u001b[0mexperimental\u001b[0m\u001b[1;33m.\u001b[0m\u001b[0mops\u001b[0m\u001b[1;33m.\u001b[0m\u001b[0mbatching\u001b[0m \u001b[1;32mimport\u001b[0m \u001b[0mmap_and_batch\u001b[0m\u001b[1;33m\u001b[0m\u001b[1;33m\u001b[0m\u001b[0m\n",
      "\u001b[1;32md:\\a__a\\projects\\szum\\venv\\lib\\site-packages\\tensorflow\\python\\data\\experimental\\ops\\batching.py\u001b[0m in \u001b[0;36m<module>\u001b[1;34m\u001b[0m\n\u001b[0;32m     18\u001b[0m \u001b[1;32mfrom\u001b[0m \u001b[0m__future__\u001b[0m \u001b[1;32mimport\u001b[0m \u001b[0mprint_function\u001b[0m\u001b[1;33m\u001b[0m\u001b[1;33m\u001b[0m\u001b[0m\n\u001b[0;32m     19\u001b[0m \u001b[1;33m\u001b[0m\u001b[0m\n\u001b[1;32m---> 20\u001b[1;33m \u001b[1;32mfrom\u001b[0m \u001b[0mtensorflow\u001b[0m\u001b[1;33m.\u001b[0m\u001b[0mpython\u001b[0m\u001b[1;33m.\u001b[0m\u001b[0mdata\u001b[0m\u001b[1;33m.\u001b[0m\u001b[0mops\u001b[0m \u001b[1;32mimport\u001b[0m \u001b[0mdataset_ops\u001b[0m\u001b[1;33m\u001b[0m\u001b[1;33m\u001b[0m\u001b[0m\n\u001b[0m\u001b[0;32m     21\u001b[0m \u001b[1;32mfrom\u001b[0m \u001b[0mtensorflow\u001b[0m\u001b[1;33m.\u001b[0m\u001b[0mpython\u001b[0m\u001b[1;33m.\u001b[0m\u001b[0mdata\u001b[0m\u001b[1;33m.\u001b[0m\u001b[0mutil\u001b[0m \u001b[1;32mimport\u001b[0m \u001b[0mconvert\u001b[0m\u001b[1;33m\u001b[0m\u001b[1;33m\u001b[0m\u001b[0m\n\u001b[0;32m     22\u001b[0m \u001b[1;32mfrom\u001b[0m \u001b[0mtensorflow\u001b[0m\u001b[1;33m.\u001b[0m\u001b[0mpython\u001b[0m\u001b[1;33m.\u001b[0m\u001b[0mdata\u001b[0m\u001b[1;33m.\u001b[0m\u001b[0mutil\u001b[0m \u001b[1;32mimport\u001b[0m \u001b[0mnest\u001b[0m\u001b[1;33m\u001b[0m\u001b[1;33m\u001b[0m\u001b[0m\n",
      "\u001b[1;32md:\\a__a\\projects\\szum\\venv\\lib\\site-packages\\tensorflow\\python\\data\\ops\\dataset_ops.py\u001b[0m in \u001b[0;36m<module>\u001b[1;34m\u001b[0m\n\u001b[0;32m     43\u001b[0m \u001b[1;32mfrom\u001b[0m \u001b[0mtensorflow\u001b[0m\u001b[1;33m.\u001b[0m\u001b[0mpython\u001b[0m\u001b[1;33m.\u001b[0m\u001b[0mdata\u001b[0m\u001b[1;33m.\u001b[0m\u001b[0mutil\u001b[0m \u001b[1;32mimport\u001b[0m \u001b[0mtraverse\u001b[0m\u001b[1;33m\u001b[0m\u001b[1;33m\u001b[0m\u001b[0m\n\u001b[0;32m     44\u001b[0m \u001b[1;32mfrom\u001b[0m \u001b[0mtensorflow\u001b[0m\u001b[1;33m.\u001b[0m\u001b[0mpython\u001b[0m\u001b[1;33m.\u001b[0m\u001b[0meager\u001b[0m \u001b[1;32mimport\u001b[0m \u001b[0mcontext\u001b[0m\u001b[1;33m\u001b[0m\u001b[1;33m\u001b[0m\u001b[0m\n\u001b[1;32m---> 45\u001b[1;33m \u001b[1;32mfrom\u001b[0m \u001b[0mtensorflow\u001b[0m\u001b[1;33m.\u001b[0m\u001b[0mpython\u001b[0m\u001b[1;33m.\u001b[0m\u001b[0meager\u001b[0m \u001b[1;32mimport\u001b[0m \u001b[0mfunction\u001b[0m \u001b[1;32mas\u001b[0m \u001b[0meager_function\u001b[0m\u001b[1;33m\u001b[0m\u001b[1;33m\u001b[0m\u001b[0m\n\u001b[0m\u001b[0;32m     46\u001b[0m \u001b[1;32mfrom\u001b[0m \u001b[0mtensorflow\u001b[0m\u001b[1;33m.\u001b[0m\u001b[0mpython\u001b[0m\u001b[1;33m.\u001b[0m\u001b[0mframework\u001b[0m \u001b[1;32mimport\u001b[0m \u001b[0mauto_control_deps\u001b[0m\u001b[1;33m\u001b[0m\u001b[1;33m\u001b[0m\u001b[0m\n\u001b[0;32m     47\u001b[0m \u001b[1;32mfrom\u001b[0m \u001b[0mtensorflow\u001b[0m\u001b[1;33m.\u001b[0m\u001b[0mpython\u001b[0m\u001b[1;33m.\u001b[0m\u001b[0mframework\u001b[0m \u001b[1;32mimport\u001b[0m \u001b[0mauto_control_deps_utils\u001b[0m \u001b[1;32mas\u001b[0m \u001b[0macd_utils\u001b[0m\u001b[1;33m\u001b[0m\u001b[1;33m\u001b[0m\u001b[0m\n",
      "\u001b[1;32md:\\a__a\\projects\\szum\\venv\\lib\\site-packages\\tensorflow\\python\\eager\\function.py\u001b[0m in \u001b[0;36m<module>\u001b[1;34m\u001b[0m\n\u001b[0;32m     59\u001b[0m \u001b[1;32mfrom\u001b[0m \u001b[0mtensorflow\u001b[0m\u001b[1;33m.\u001b[0m\u001b[0mpython\u001b[0m\u001b[1;33m.\u001b[0m\u001b[0mops\u001b[0m \u001b[1;32mimport\u001b[0m \u001b[0mdefault_gradient\u001b[0m\u001b[1;33m\u001b[0m\u001b[1;33m\u001b[0m\u001b[0m\n\u001b[0;32m     60\u001b[0m \u001b[1;32mfrom\u001b[0m \u001b[0mtensorflow\u001b[0m\u001b[1;33m.\u001b[0m\u001b[0mpython\u001b[0m\u001b[1;33m.\u001b[0m\u001b[0mops\u001b[0m \u001b[1;32mimport\u001b[0m \u001b[0mfunctional_ops\u001b[0m\u001b[1;33m\u001b[0m\u001b[1;33m\u001b[0m\u001b[0m\n\u001b[1;32m---> 61\u001b[1;33m \u001b[1;32mfrom\u001b[0m \u001b[0mtensorflow\u001b[0m\u001b[1;33m.\u001b[0m\u001b[0mpython\u001b[0m\u001b[1;33m.\u001b[0m\u001b[0mops\u001b[0m \u001b[1;32mimport\u001b[0m \u001b[0mgradients_util\u001b[0m\u001b[1;33m\u001b[0m\u001b[1;33m\u001b[0m\u001b[0m\n\u001b[0m\u001b[0;32m     62\u001b[0m \u001b[1;32mfrom\u001b[0m \u001b[0mtensorflow\u001b[0m\u001b[1;33m.\u001b[0m\u001b[0mpython\u001b[0m\u001b[1;33m.\u001b[0m\u001b[0mops\u001b[0m \u001b[1;32mimport\u001b[0m \u001b[0mresource_variable_ops\u001b[0m\u001b[1;33m\u001b[0m\u001b[1;33m\u001b[0m\u001b[0m\n\u001b[0;32m     63\u001b[0m \u001b[1;33m\u001b[0m\u001b[0m\n",
      "\u001b[1;32m~\\AppData\\Local\\Programs\\Python\\Python37\\lib\\importlib\\_bootstrap.py\u001b[0m in \u001b[0;36m_find_and_load\u001b[1;34m(name, import_)\u001b[0m\n",
      "\u001b[1;32m~\\AppData\\Local\\Programs\\Python\\Python37\\lib\\importlib\\_bootstrap.py\u001b[0m in \u001b[0;36m_find_and_load_unlocked\u001b[1;34m(name, import_)\u001b[0m\n",
      "\u001b[1;32m~\\AppData\\Local\\Programs\\Python\\Python37\\lib\\importlib\\_bootstrap.py\u001b[0m in \u001b[0;36m_load_unlocked\u001b[1;34m(spec)\u001b[0m\n",
      "\u001b[1;32m~\\AppData\\Local\\Programs\\Python\\Python37\\lib\\importlib\\_bootstrap_external.py\u001b[0m in \u001b[0;36mexec_module\u001b[1;34m(self, module)\u001b[0m\n",
      "\u001b[1;32m~\\AppData\\Local\\Programs\\Python\\Python37\\lib\\importlib\\_bootstrap_external.py\u001b[0m in \u001b[0;36mget_code\u001b[1;34m(self, fullname)\u001b[0m\n",
      "\u001b[1;32m~\\AppData\\Local\\Programs\\Python\\Python37\\lib\\importlib\\_bootstrap_external.py\u001b[0m in \u001b[0;36mget_data\u001b[1;34m(self, path)\u001b[0m\n",
      "\u001b[1;31mKeyboardInterrupt\u001b[0m: "
     ],
     "ename": "KeyboardInterrupt",
     "evalue": "",
     "output_type": "error"
    }
   ],
   "source": [
    "import keras\n",
    "import librosa\n",
    "import python_speech_features\n",
    "from scipy.io import wavfile\n",
    "import numpy as np\n",
    "from timeit import default_timer as timer\n",
    "from pathlib import Path\n",
    "import IPython.display as ipd\n",
    "from pydub import AudioSegment\n",
    "\n",
    "def get_audio(path, sample_rate=16000):\n",
    "    wav, wav_sr = librosa.load(path, sr=sample_rate)\n",
    "    if wav.size < 16000:\n",
    "        return np.pad(wav, (16000 - wav.size, 0), mode='constant')\n",
    "    else:\n",
    "        return wav[0:16000]\n",
    "\n",
    "# compute MFCC features from audio signal\n",
    "def audio2feature(audio):\n",
    "    audio = audio.astype(np.float)\n",
    "    # normalize data\n",
    "    audio -= audio.mean()\n",
    "    audio /= np.max((audio.max(), -audio.min()))\n",
    "    # compute MFCC coefficients\n",
    "    features = python_speech_features.mfcc(audio, samplerate=16000, winlen=0.025, winstep=0.01, numcep=20, nfilt=40,\n",
    "                                           nfft=512, lowfreq=100, highfreq=None, preemph=0.97, ceplifter=22,\n",
    "                                           appendEnergy=True, winfunc=np.hamming)\n",
    "    return features\n",
    "\n",
    "def extract_loudest_section(audio, length):\n",
    "    audio = audio[:, 0].astype(np.float) # to avoid integer overflow when squaring\n",
    "    audio_pw = audio**2 # power\n",
    "    window = np.ones((length, ))\n",
    "    conv = np.convolve(audio_pw, window, mode=\"valid\")\n",
    "    begin_index = conv.argmax()\n",
    "    return audio[begin_index:begin_index+length]\n",
    "\n",
    "\n",
    "def signaltonoise(command, noise):\n",
    "    c = np.mean(command)\n",
    "    n = np.mean(noise)\n",
    "\n",
    "    return np.abs(c / n)\n",
    "\n",
    "\n",
    "def get_nr_noises(path, samples_nr):\n",
    "    ''' Returns paths to noise samples.'''\n",
    "    datadir = Path(path)\n",
    "    files = [str(f) for f in datadir.glob('**/*.wav') if f]\n",
    "    return files[0:samples_nr]"
   ]
  },
  {
   "cell_type": "code",
   "execution_count": null,
   "outputs": [],
   "source": [
    "wav = get_audio('data_new/training/bed/0c2ca723_nohash_1.wav')\n",
    "bg = get_audio('noise/a001_80_90.wav')\n",
    "start_ = np.random.randint(bg.shape[0]-16000)\n",
    "bg_slice = bg[start_ : start_+16000]\n",
    "wav_with_bg = wav * np.random.uniform(0.8, 1.2) + \\\n",
    "              bg * np.random.uniform(0, 1)\n",
    "\n",
    "librosa.output.write_wav(path=\"output2.wav\", y=wav_with_bg, sr=16000 )\n",
    " \n",
    "\n",
    "from playsound import playsound\n",
    "\n",
    "playsound(\"output2.wav\")"
   ],
   "metadata": {
    "collapsed": false,
    "pycharm": {
     "name": "#%%\n",
     "is_executing": false
    }
   }
  },
  {
   "cell_type": "code",
   "execution_count": null,
   "outputs": [],
   "source": [
    "from IPython.display import clear_output\n",
    "from tensorflow import keras\n",
    "\n",
    "audio_buffer = np.zeros((5, 3200))\n",
    "last_recognized_word = None\n",
    "last_recognition_time = 0\n",
    "recognition_timeout = 1.0\n",
    "word2index = {\n",
    "    # core words\n",
    "    \"yes\": 0,\n",
    "    \"no\": 1,\n",
    "    \"up\": 2,\n",
    "    \"down\": 3,\n",
    "    \"left\": 4,\n",
    "    \"right\": 5,\n",
    "    \"on\": 6,\n",
    "    \"off\": 7,\n",
    "    \"stop\": 8,\n",
    "    \"go\": 9,\n",
    "    \"unknown\": 10\n",
    "}\n",
    "index2word = [word for word in word2index]\n",
    "model = keras.models.load_model(\"models/model_January_16/model.11.hdf5\")\n",
    "\n",
    "def audio_stream_callback(indata, frames, time, status):\n",
    "    global audio_buffer\n",
    "    global model\n",
    "    global index2word\n",
    "    global last_recognized_word\n",
    "    global last_recognition_time\n",
    "    audio_buffer = np.roll(audio_buffer, shift=-1, axis=0)\n",
    "    audio_buffer[-1, :] = np.squeeze(indata)\n",
    "    recorded_feature = audio2feature(audio_buffer.flatten())\n",
    "    recorded_feature = np.expand_dims(recorded_feature, 0) # add \"fake\" batch dimension 1\n",
    "    prediction = model.predict(recorded_feature).reshape((11, ))\n",
    "    # normalize prediction output to get \"probabilities\"\n",
    "    prediction /= prediction.sum()\n",
    "    best_candidate_index = prediction.argmax()\n",
    "    best_candidate_probability = prediction[best_candidate_index]\n",
    "    \n",
    "    if(best_candidate_probability > 0.5): # treshold\n",
    "        word = index2word[best_candidate_index]\n",
    "        if( (timer()-last_recognition_time)>recognition_timeout or word!=last_recognized_word ):\n",
    "            last_recognition_time = timer()\n",
    "            last_recognized_word = word\n",
    "            clear_output(wait=True) # clear ouput as soon as new output is available to replace it\n",
    "            print(\"%s\\t:\\t%2.1f%%\" % (word, best_candidate_probability*100))\n",
    "            print(\"-----------------------------\")\n"
   ],
   "metadata": {
    "collapsed": false,
    "pycharm": {
     "name": "#%%\n",
     "is_executing": false
    }
   }
  },
  {
   "cell_type": "code",
   "execution_count": null,
   "outputs": [],
   "source": [
    "import sounddevice as sd\n",
    "# REALTIME KEYWORD RECOGNITION DEMO (60s long)\n",
    "with sd.InputStream(samplerate=16000, blocksize=3200, device=None, channels=1, dtype=\"float32\", callback=audio_stream_callback):\n",
    "    sd.sleep(60*1000)\n"
   ],
   "metadata": {
    "collapsed": false,
    "pycharm": {
     "name": "#%%\n",
     "is_executing": false
    }
   }
  },
  {
   "cell_type": "code",
   "execution_count": 1,
   "outputs": [
    {
     "name": "stderr",
     "text": [
      "d:\\a__a\\projects\\szum\\venv\\lib\\site-packages\\librosa\\util\\decorators.py:9: NumbaDeprecationWarning: \u001b[1mAn import was requested from a module that has moved location.\n",
      "Import requested from: 'numba.decorators', please update to use 'numba.core.decorators' or pin to Numba version 0.48.0. This alias will not be present in Numba version 0.50.0.\u001b[0m\n",
      "  from numba.decorators import jit as optional_jit\n",
      "d:\\a__a\\projects\\szum\\venv\\lib\\site-packages\\librosa\\util\\decorators.py:9: NumbaDeprecationWarning: \u001b[1mAn import was requested from a module that has moved location.\n",
      "Import of 'jit' requested from: 'numba.decorators', please update to use 'numba.core.decorators' or pin to Numba version 0.48.0. This alias will not be present in Numba version 0.50.0.\u001b[0m\n",
      "  from numba.decorators import jit as optional_jit\n"
     ],
     "output_type": "stream"
    },
    {
     "name": "stdout",
     "text": [
      "['yes', 'no', 'up', 'down', 'left', 'right', 'on', 'off', 'stop', 'go', 'unknown']\n",
      "loading dataset...\n"
     ],
     "output_type": "stream"
    }
   ],
   "source": [
    "import matplotlib\n",
    "import numpy as np\n",
    "import librosa\n",
    "from tensorflow import keras\n",
    "from pathlib import Path\n",
    "from tqdm import tqdm\n",
    "# %matplotlib inline\n",
    "import matplotlib.pyplot as plt\n",
    "from sklearn.metrics import confusion_matrix\n",
    "import pandas as pd\n",
    "from scipy import signal\n",
    "\n",
    "\n",
    "def get_audio(path, sample_rate=16000):\n",
    "    wav, wav_sr = librosa.load(path, sr=sample_rate)\n",
    "    if wav.size < 16000:\n",
    "        return np.pad(wav, (16000 - wav.size, 0), mode='constant')\n",
    "    else:\n",
    "        return wav[0:16000]\n",
    "\n",
    "word2index = {\n",
    "    # core words\n",
    "    \"yes\": 0,\n",
    "    \"no\": 1,\n",
    "    \"up\": 2,\n",
    "    \"down\": 3,\n",
    "    \"left\": 4,\n",
    "    \"right\": 5,\n",
    "    \"on\": 6,\n",
    "    \"off\": 7,\n",
    "    \"stop\": 8,\n",
    "    \"go\": 9,\n",
    "    \"unknown\": 10\n",
    "}\n",
    "\n",
    "def signaltonoise(command, noise):\n",
    "    c = np.mean(command)\n",
    "    n = np.mean(noise)\n",
    "\n",
    "    return np.abs(c / n)\n",
    "\n",
    "def get_noise_audio(path, sample_rate=16000):\n",
    "    wav, wav_sr = librosa.load(path, sr=sample_rate)\n",
    "    return wav\n",
    "\n",
    "\n",
    "def get_nr_noises(path, samples_nr):\n",
    "    ''' Returns paths to noise samples.'''\n",
    "    datadir = Path(path)\n",
    "    files = [str(f) for f in datadir.glob('**/*.wav') if f]\n",
    "    return files[0:samples_nr]\n",
    "\n",
    "def get_data(path):\n",
    "    ''' Returns dataframe with columns: 'path', 'word'.'''\n",
    "    datadir = Path(path)\n",
    "    files = [(str(f), f.parts[-2]) for f in datadir.glob('**/*.wav') if f]\n",
    "    df = pd.DataFrame(files, columns=['path', 'word'])\n",
    "\n",
    "    return df\n",
    "\n",
    "\n",
    "def prepare_data(df):\n",
    "    '''Transform data into something more useful.'''\n",
    "    train_words = ['yes', 'no', 'up', 'down',\n",
    "                   'left', 'right', 'on', 'off', 'stop', 'go']\n",
    "\n",
    "    df.loc[~df.word.isin(train_words), 'word'] = 'unknown'\n",
    "    return df\n",
    "\n",
    "def get_specgram(audio):\n",
    "    data = signal.spectrogram(audio, nperseg=256, noverlap=128)[2]\n",
    "    # print(data.shape)\n",
    "    return data\n",
    "\n",
    "def get_cut_noise_audio(noise):\n",
    "    noise = get_noise_audio(noise)\n",
    "    return noise[0:16000]\n",
    "\n",
    "def add_noise(command, noise, command_i=None, noise_i=None):\n",
    "    if noise_i is None:\n",
    "        noise_i = np.random.uniform(0, 2.0)\n",
    "    if command_i is None:\n",
    "        command_i = np.random.uniform(0.8, 1.2)\n",
    "    wav_with_bg = command * command_i + noise * noise_i\n",
    "\n",
    "    return wav_with_bg\n",
    "\n",
    "\n",
    "index2word = [word for word in word2index]\n",
    "print(index2word)\n",
    "\n",
    "print(\"loading dataset...\")\n",
    "# train = prepare_data(get_data('/macierz/home/s165554/pg/szum/data/evaluation/'))\n",
    "test = prepare_data(get_data('../data/equal/evaluation'))\n",
    "test_size = len(test)\n",
    "noises = get_nr_noises(\"../data/noise\", len(test))\n",
    "noise_size = len(noises)\n",
    "#noises = None\n",
    "#with_noise = False\n",
    "\n",
    "\n",
    "samples = []\n",
    "classes = []\n",
    "snr = []\n",
    "\n",
    "for class_name in test.word:\n",
    "    classes.append(word2index[class_name])\n",
    "classes = np.array(classes, dtype=np.int)\n",
    "test = np.array(test.path)"
   ],
   "metadata": {
    "collapsed": false,
    "pycharm": {
     "name": "#%%\n",
     "is_executing": false
    }
   }
  },
  {
   "cell_type": "code",
   "execution_count": 2,
   "outputs": [],
   "source": [
    "from kapre.time_frequency import Melspectrogram, Spectrogram\n",
    "import kapre\n",
    "\n",
    "def AttRNNSpeechModel(nCategories, samplingrate=16000,\n",
    "                      inputLength=16000, rnn_func=keras.layers.LSTM):\n",
    "    # simple LSTM\n",
    "    sr = samplingrate\n",
    "    iLen = inputLength\n",
    "\n",
    "    inputs = keras.layers.Input((inputLength,), name='input')\n",
    "\n",
    "    x = keras.layers.Reshape((1, -1))(inputs)\n",
    "\n",
    "    m = Melspectrogram(n_dft=1024, n_hop=128, input_shape=(1, iLen),\n",
    "                       padding='same', sr=sr, n_mels=80,\n",
    "                       fmin=40.0, fmax=sr / 2, power_melgram=1.0,\n",
    "                       return_decibel_melgram=True, trainable_fb=False,\n",
    "                       trainable_kernel=False,\n",
    "                       name='mel_stft')\n",
    "    m.trainable = False\n",
    "\n",
    "    x = m(x)\n",
    "\n",
    "    x = kapre.utils.Normalization2D(int_axis=0, name='mel_stft_norm')(x)\n",
    "\n",
    "    # note that Melspectrogram puts the sequence in shape (batch_size, melDim, timeSteps, 1)\n",
    "    # we would rather have it the other way around for LSTMs\n",
    "\n",
    "    x = keras.layers.Permute((2, 1, 3))(x)\n",
    "\n",
    "    x = keras.layers.Conv2D(10, (5, 1), activation='relu', padding='same')(x)\n",
    "    x = keras.layers.BatchNormalization()(x)\n",
    "    x = keras.layers.Conv2D(1, (5, 1), activation='relu', padding='same')(x)\n",
    "    x = keras.layers.BatchNormalization()(x)\n",
    "\n",
    "    # x = Reshape((125, 80)) (x)\n",
    "    # keras.backend.squeeze(x, axis)\n",
    "    x = keras.layers.Lambda(lambda q: keras.backend.squeeze(q, -1), name='squeeze_last_dim')(x)\n",
    "\n",
    "    x = keras.layers.Bidirectional(rnn_func(64, return_sequences=True)\n",
    "                        )(x)  # [b_s, seq_len, vec_dim]\n",
    "    x = keras.layers.Bidirectional(rnn_func(64, return_sequences=True)\n",
    "                        )(x)  # [b_s, seq_len, vec_dim]\n",
    "\n",
    "    xFirst = keras.layers.Lambda(lambda q: q[:, -1])(x)  # [b_s, vec_dim]\n",
    "    query = keras.layers.Dense(128)(xFirst)\n",
    "\n",
    "    # dot product attention\n",
    "    attScores = keras.layers.Dot(axes=[1, 2])([query, x])\n",
    "    attScores = keras.layers.Softmax(name='attSoftmax')(attScores)  # [b_s, seq_len]\n",
    "\n",
    "    # rescale sequence\n",
    "    attVector = keras.layers.Dot(axes=[1, 1])([attScores, x])  # [b_s, vec_dim]\n",
    "\n",
    "    x = keras.layers.Dense(64, activation='relu')(attVector)\n",
    "    x = keras.layers.Dense(32)(x)\n",
    "\n",
    "    output = keras.layers.Dense(nCategories, activation='softmax', name='output')(x)\n",
    "\n",
    "    model = keras.models.Model(inputs=[inputs], outputs=[output])\n",
    "\n",
    "    return model"
   ],
   "metadata": {
    "collapsed": false,
    "pycharm": {
     "name": "#%%\n",
     "is_executing": false
    }
   }
  },
  {
   "cell_type": "code",
   "execution_count": 46,
   "outputs": [],
   "source": [
    "def get_model(num_classes, shape=(99, 20)):\n",
    "    model = keras.models.Sequential()\n",
    "\n",
    "    model.add(keras.layers.Input(shape=shape))\n",
    "\n",
    "    model.add(keras.layers.Conv1D(64, kernel_size=8, activation=\"relu\", input_shape=shape))\n",
    "    model.add(keras.layers.MaxPooling1D(pool_size=4))\n",
    "\n",
    "    model.add(keras.layers.Conv1D(128, kernel_size=8, activation=\"relu\"))\n",
    "\n",
    "    model.add(keras.layers.Conv1D(256, kernel_size=5, activation=\"relu\"))\n",
    "    model.add(keras.layers.GlobalMaxPooling1D())\n",
    "\n",
    "    model.add(keras.layers.Dense(128, activation=\"relu\"))\n",
    "\n",
    "    model.add(keras.layers.Dense(64, activation=\"relu\"))\n",
    "\n",
    "    model.add(keras.layers.Dense(num_classes, activation='softmax'))\n",
    "    #model.summary()\n",
    "    return model"
   ],
   "metadata": {
    "collapsed": false,
    "pycharm": {
     "name": "#%% \n",
     "is_executing": false
    }
   }
  },
  {
   "cell_type": "code",
   "execution_count": 58,
   "outputs": [
    {
     "name": "stdout",
     "text": [
      "Model: \"sequential_5\"\n",
      "_________________________________________________________________\n",
      "Layer (type)                 Output Shape              Param #   \n",
      "=================================================================\n",
      "conv1d_15 (Conv1D)           (None, 92, 64)            10304     \n",
      "_________________________________________________________________\n",
      "max_pooling1d_5 (MaxPooling1 (None, 23, 64)            0         \n",
      "_________________________________________________________________\n",
      "conv1d_16 (Conv1D)           (None, 16, 128)           65664     \n",
      "_________________________________________________________________\n",
      "conv1d_17 (Conv1D)           (None, 12, 256)           164096    \n",
      "_________________________________________________________________\n",
      "global_max_pooling1d_5 (Glob (None, 256)               0         \n",
      "_________________________________________________________________\n",
      "dense_33 (Dense)             (None, 128)               32896     \n",
      "_________________________________________________________________\n",
      "dense_34 (Dense)             (None, 64)                8256      \n",
      "_________________________________________________________________\n",
      "dense_35 (Dense)             (None, 11)                715       \n",
      "=================================================================\n",
      "Total params: 281,931\n",
      "Trainable params: 281,931\n",
      "Non-trainable params: 0\n",
      "_________________________________________________________________\n",
      "Model: \"sequential_5\"\n",
      "_________________________________________________________________\n",
      "Layer (type)                 Output Shape              Param #   \n",
      "=================================================================\n",
      "conv1d_15 (Conv1D)           (None, 92, 64)            10304     \n",
      "_________________________________________________________________\n",
      "max_pooling1d_5 (MaxPooling1 (None, 23, 64)            0         \n",
      "_________________________________________________________________\n",
      "conv1d_16 (Conv1D)           (None, 16, 128)           65664     \n",
      "_________________________________________________________________\n",
      "conv1d_17 (Conv1D)           (None, 12, 256)           164096    \n",
      "_________________________________________________________________\n",
      "global_max_pooling1d_5 (Glob (None, 256)               0         \n",
      "_________________________________________________________________\n",
      "dense_33 (Dense)             (None, 128)               32896     \n",
      "_________________________________________________________________\n",
      "dense_34 (Dense)             (None, 64)                8256      \n",
      "_________________________________________________________________\n",
      "dense_35 (Dense)             (None, 11)                715       \n",
      "=================================================================\n",
      "Total params: 281,931\n",
      "Trainable params: 281,931\n",
      "Non-trainable params: 0\n",
      "_________________________________________________________________\n"
     ],
     "output_type": "stream"
    }
   ],
   "source": [
    "#model = AttRNNSpeechModel(11)\n",
    "model = get_model(11, (99, 20))\n",
    "model.load_weights(\"models/model_good_adam_lr_decay/model.18.hdf5\")\n",
    "#model = keras.models.load_model(\"models/model_good_adam_lr_decay/model.29.hdf5\")\n",
    "#model.load_weights(\"models/model_AttRNN/model.14.hdf5\")\n",
    "model.summary()"
   ],
   "metadata": {
    "collapsed": false,
    "pycharm": {
     "name": "#%%\n",
     "is_executing": false
    }
   }
  },
  {
   "cell_type": "code",
   "execution_count": 4,
   "outputs": [
    {
     "name": "stderr",
     "text": [
      "100%|██████████| 2570/2570 [27:41<00:00,  1.55it/s]\n"
     ],
     "output_type": "stream"
    }
   ],
   "source": [
    "samples = []\n",
    "noise_sample = []\n",
    "\n",
    "for id, path in enumerate(tqdm(test)):\n",
    "    noise_sample.append(get_cut_noise_audio(noises[id % noise_size]))\n",
    "    samples.append(get_audio(path))\n",
    "\n",
    "samples = np.array(samples)\n",
    "noise_sample = np.array(noise_sample)\n"
   ],
   "metadata": {
    "collapsed": false,
    "pycharm": {
     "name": "#%%\n",
     "is_executing": false
    }
   }
  },
  {
   "cell_type": "code",
   "execution_count": null,
   "outputs": [
    {
     "name": "stderr",
     "text": [
      "100%|██████████| 2570/2570 [00:01<00:00, 2143.06it/s]\n",
      "100%|██████████| 2570/2570 [03:16<00:00, 13.07it/s]\n",
      "100%|██████████| 2570/2570 [00:00<00:00, 3524.95it/s]\n",
      "100%|██████████| 2570/2570 [02:38<00:00, 16.24it/s]\n",
      "100%|██████████| 2570/2570 [00:00<00:00, 3678.47it/s]\n",
      "100%|██████████| 2570/2570 [02:37<00:00, 16.32it/s]\n",
      "100%|██████████| 2570/2570 [00:00<00:00, 3751.95it/s]\n",
      "  7%|▋         | 181/2570 [00:12<02:14, 17.73it/s]"
     ],
     "output_type": "stream"
    },
    {
     "name": "stdout",
     "text": [
      "SNR = 0.5\n",
      "TOP1 acc = 0.7147859922178988\n",
      "SNR = 1.0\n",
      "TOP1 acc = 0.7727626459143969\n",
      "SNR = 2.0\n",
      "TOP1 acc = 0.8210116731517509\n"
     ],
     "output_type": "stream"
    }
   ],
   "source": [
    "samples_with_noise = []\n",
    "#ratios = {5.0, 4.0, 3.0, 2.0, 1.0, 0.5, 0.33, 0.25, 0.20, 0.16, 0.14}\n",
    "ratios = {5.0, 4.0, 3.0, 2.0, 1.0, 0.5, 0.33, 0.25, 0.20, 0.16, 0.14, 0.125, 0.11, 0.1}\n",
    "#ratios = {5.0}\n",
    "#snr_ratio = 2.0\n",
    "for snr_ratio in ratios:\n",
    "    samples_with_noise = []\n",
    "    for id, audio in enumerate(tqdm(samples)):\n",
    "        c = np.mean(audio)\n",
    "        n = np.mean(noise_sample[id])\n",
    "        noise_i = np.abs(c * 1.0 / (n * snr_ratio))\n",
    "        #snr.append(signaltonoise(audio, noise_sample[id] * noise_i))\n",
    "        data = add_noise(audio, noise_sample[id], command_i=1.0, noise_i=noise_i)\n",
    "        data -= data.mean()\n",
    "        data /= np.max((data.max(), -data.min()))\n",
    "        samples_with_noise.append(data)\n",
    "    \n",
    "    samples_with_noise = np.array(samples_with_noise)\n",
    "    correct = 0\n",
    "    predicted = []\n",
    "    \n",
    "    for id, rec in enumerate(tqdm(samples_with_noise)):\n",
    "        rec = audio2feature(rec)\n",
    "        recorded_feature = np.expand_dims(rec, 0) \n",
    "        prediction = model.predict(recorded_feature).reshape((11,))\n",
    "        prediction /= prediction.sum()\n",
    "        max_class_id = prediction.argmax()\n",
    "        predicted.append(max_class_id)\n",
    "        if index2word[max_class_id] == index2word[classes[id]]:\n",
    "            correct += 1\n",
    "    \n",
    "    acc = correct / len(samples)\n",
    "    print(\"SNR = \" + str(snr_ratio))\n",
    "    print(\"TOP1 acc = \" + str(acc))"
   ],
   "metadata": {
    "collapsed": false,
    "pycharm": {
     "name": "#%%\n",
     "is_executing": true
    }
   }
  },
  {
   "cell_type": "code",
   "execution_count": 57,
   "outputs": [
    {
     "name": "stderr",
     "text": [
      "100%|██████████| 2570/2570 [02:57<00:00, 14.46it/s]\n"
     ],
     "output_type": "stream"
    },
    {
     "name": "stdout",
     "text": [
      "No noise \n",
      "TOP1 acc = 0.9252918287937744\n"
     ],
     "output_type": "stream"
    }
   ],
   "source": [
    "correct = 0\n",
    "predicted = []\n",
    "\n",
    "for id, rec in enumerate(tqdm(samples)):\n",
    "    rec = audio2feature(rec)\n",
    "    recorded_feature = np.expand_dims(rec, 0) \n",
    "    prediction = model.predict(recorded_feature).reshape((11,))\n",
    "    prediction /= prediction.sum()\n",
    "    max_class_id = prediction.argmax()\n",
    "    predicted.append(max_class_id)\n",
    "    if index2word[max_class_id] == index2word[classes[id]]:\n",
    "        correct += 1\n",
    "\n",
    "acc = correct / len(samples)\n",
    "print(\"No noise \")\n",
    "print(\"TOP1 acc = \" + str(acc))\n",
    "# cm = confusion_matrix(classes, predicted, normalize=\"all\")\n",
    "# %matplotlib inline\n",
    "# plt.close()\n",
    "# plt.figure(figsize = (8,8))\n",
    "# plt.imshow(cm, cmap=plt.cm.Blues)\n",
    "# plt.xlabel(\"Predicted labels\")\n",
    "# plt.ylabel(\"True labels\")\n",
    "# plt.xticks(np.arange(0, 11, 1), index2word, rotation=90)\n",
    "# plt.yticks(np.arange(0, 11, 1), index2word)\n",
    "# plt.tick_params(labelsize=12)\n",
    "# plt.title('Confusion matrix ')\n",
    "# plt.colorbar()\n",
    "# plt.savefig('origin_dataset.png')\n",
    "# plt.show()"
   ],
   "metadata": {
    "collapsed": false,
    "pycharm": {
     "name": "#%%\n",
     "is_executing": false
    }
   }
  },
  {
   "cell_type": "code",
   "execution_count": null,
   "outputs": [],
   "source": [
    "print(predicted)"
   ],
   "metadata": {
    "collapsed": false,
    "pycharm": {
     "name": "#%%\n",
     "is_executing": false
    }
   }
  },
  {
   "cell_type": "code",
   "execution_count": 43,
   "outputs": [
    {
     "name": "stdout",
     "text": [
      "(129, 124)\n",
      "(99, 161)\n",
      "(99, 20)\n"
     ],
     "output_type": "stream"
    },
    {
     "data": {
      "text/plain": "<Figure size 432x288 with 1 Axes>",
      "image/png": "[encoded data removed]"
     },
     "metadata": {
      "needs_background": "light"
     },
     "output_type": "display_data"
    }
   ],
   "source": [
    "import tensorflow as tf\n",
    "import python_speech_features\n",
    "import numpy as np\n",
    "\n",
    "def get_specgram(audio):\n",
    "    data = signal.spectrogram(audio, nperseg=256, noverlap=128)[2]\n",
    "    # print(data.shape)\n",
    "    return data\n",
    "\n",
    "\n",
    "def get_melspecgram(audio):\n",
    "    data = librosa.feature.melspectrogram(audio)\n",
    "    # print(data.shape)\n",
    "    return data\n",
    "\n",
    "\n",
    "def get_stft(audio):\n",
    "    spectrogram = tf.abs(tf.signal.stft(audio, frame_length=255, frame_step=128))\n",
    "    return spectrogram\n",
    "\n",
    "\n",
    "def get_spectrogram_shape(function, audio_path):\n",
    "    wav = get_audio(audio_path)\n",
    "    data = function(wav)\n",
    "    return data.shape\n",
    "\n",
    "def log_specgram(audio, sample_rate=16000, window_size=20,\n",
    "                 step_size=10, eps=1e-10):\n",
    "    nperseg = int(round(window_size * sample_rate / 1e3))\n",
    "    noverlap = int(round(step_size * sample_rate / 1e3))\n",
    "    freqs, _, spec = signal.spectrogram(audio,\n",
    "                                    fs=sample_rate,\n",
    "                                    window='hann',\n",
    "                                    nperseg=nperseg,\n",
    "                                    noverlap=noverlap,\n",
    "                                    detrend=False)\n",
    "    return np.log(spec.T.astype(np.float32) + eps)\n",
    "\n",
    "def audio2feature(audio):\n",
    "    audio = audio.astype(np.float)\n",
    "    # normalize data\n",
    "    audio -= audio.mean()\n",
    "    audio /= np.max((audio.max(), -audio.min()))\n",
    "    # compute MFCC coefficients\n",
    "    features = python_speech_features.mfcc(audio, samplerate=16000, winlen=0.025, winstep=0.01, numcep=20, nfilt=40,\n",
    "                                           nfft=512, lowfreq=100, highfreq=None, preemph=0.97, ceplifter=22,\n",
    "                                           appendEnergy=True, winfunc=np.hamming)\n",
    "    return features\n",
    "\n",
    "wav = get_audio(\"../data/data_new/training/yes/0a7c2a8d_nohash_0.wav\")\n",
    "spec = get_specgram(wav)\n",
    "print(spec.shape)\n",
    "plt.title(\"yes\")\n",
    "plt.imshow(spec, aspect='auto', origin='lower')\n",
    "plt.axis('off')\n",
    "plt.savefig('spec_yes.png')\n",
    "\n",
    "wav = get_audio(\"../data/data_new/training/no/0a9f9af7_nohash_0.wav\")\n",
    "spec = log_specgram(wav)\n",
    "#spec = np.transpose(spec)\n",
    "print(spec.shape)\n",
    "plt.title(\"no\")\n",
    "plt.imshow(spec, aspect='auto', origin='lower')\n",
    "plt.axis('off')\n",
    "plt.savefig('log_no.png')\n",
    "\n",
    "wav = get_audio(\"../data/data_new/training/down/0a7c2a8d_nohash_0.wav\")\n",
    "spec = audio2feature(wav)\n",
    "print(spec.shape)\n",
    "plt.title(\"down\")\n",
    "plt.imshow(spec, aspect='auto', origin='lower')\n",
    "plt.axis('off')\n",
    "plt.savefig('log_down.png')\n",
    "\n"
   ],
   "metadata": {
    "collapsed": false,
    "pycharm": {
     "name": "#%%\n",
     "is_executing": false
    }
   }
  }
 ],
 "metadata": {
  "kernelspec": {
   "display_name": "Python 3",
   "language": "python",
   "name": "python3"
  },
  "language_info": {
   "codemirror_mode": {
    "name": "ipython",
    "version": 2
   },
   "file_extension": ".py",
   "mimetype": "text/x-python",
   "name": "python",
   "nbconvert_exporter": "python",
   "pygments_lexer": "ipython2",
   "version": "2.7.6"
  },
  "pycharm": {
   "stem_cell": {
    "cell_type": "raw",
    "source": [],
    "metadata": {
     "collapsed": false
    }
   }
  }
 },
 "nbformat": 4,
 "nbformat_minor": 0
}