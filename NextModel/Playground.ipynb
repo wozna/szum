{
 "cells": [
  {
   "cell_type": "code",
   "execution_count": 1,
   "metadata": {
    "collapsed": true,
    "pycharm": {
     "is_executing": false
    }
   },
   "outputs": [
    {
     "name": "stderr",
     "text": [
      "Using TensorFlow backend.\n",
      "d:\\a__a\\projects\\szum\\venv\\lib\\site-packages\\librosa\\util\\decorators.py:9: NumbaDeprecationWarning: \u001b[1mAn import was requested from a module that has moved location.\n",
      "Import requested from: 'numba.decorators', please update to use 'numba.core.decorators' or pin to Numba version 0.48.0. This alias will not be present in Numba version 0.50.0.\u001b[0m\n",
      "  from numba.decorators import jit as optional_jit\n",
      "d:\\a__a\\projects\\szum\\venv\\lib\\site-packages\\librosa\\util\\decorators.py:9: NumbaDeprecationWarning: \u001b[1mAn import was requested from a module that has moved location.\n",
      "Import of 'jit' requested from: 'numba.decorators', please update to use 'numba.core.decorators' or pin to Numba version 0.48.0. This alias will not be present in Numba version 0.50.0.\u001b[0m\n",
      "  from numba.decorators import jit as optional_jit\n",
      "d:\\a__a\\projects\\szum\\venv\\lib\\site-packages\\pydub\\utils.py:170: RuntimeWarning: Couldn't find ffmpeg or avconv - defaulting to ffmpeg, but may not work\n",
      "  warn(\"Couldn't find ffmpeg or avconv - defaulting to ffmpeg, but may not work\", RuntimeWarning)\n"
     ],
     "output_type": "stream"
    }
   ],
   "source": [
    "import keras\n",
    "import librosa\n",
    "import python_speech_features\n",
    "from scipy.io import wavfile\n",
    "import numpy as np\n",
    "from timeit import default_timer as timer\n",
    "from pathlib import Path\n",
    "import IPython.display as ipd\n",
    "from pydub import AudioSegment\n",
    "\n",
    "def get_audio(path, sample_rate=16000):\n",
    "    wav, wav_sr = librosa.load(path, sr=sample_rate)\n",
    "    if wav.size < 16000:\n",
    "        return np.pad(wav, (16000 - wav.size, 0), mode='constant')\n",
    "    else:\n",
    "        return wav[0:16000]\n",
    "\n",
    "# compute MFCC features from audio signal\n",
    "def audio2feature(audio):\n",
    "    audio = audio.astype(np.float)\n",
    "    # normalize data\n",
    "    audio -= audio.mean()\n",
    "    audio /= np.max((audio.max(), -audio.min()))\n",
    "    # compute MFCC coefficients\n",
    "    features = python_speech_features.mfcc(audio, samplerate=16000, winlen=0.025, winstep=0.01, numcep=20, nfilt=40,\n",
    "                                           nfft=512, lowfreq=100, highfreq=None, preemph=0.97, ceplifter=22,\n",
    "                                           appendEnergy=True, winfunc=np.hamming)\n",
    "    return features\n",
    "\n",
    "def extract_loudest_section(audio, length):\n",
    "    audio = audio[:, 0].astype(np.float) # to avoid integer overflow when squaring\n",
    "    audio_pw = audio**2 # power\n",
    "    window = np.ones((length, ))\n",
    "    conv = np.convolve(audio_pw, window, mode=\"valid\")\n",
    "    begin_index = conv.argmax()\n",
    "    return audio[begin_index:begin_index+length]\n",
    "\n",
    "\n",
    "def signaltonoise(command, noise):\n",
    "    c = np.mean(command)\n",
    "    n = np.mean(noise)\n",
    "\n",
    "    return np.abs(c / n)\n",
    "\n",
    "\n",
    "def get_nr_noises(path, samples_nr):\n",
    "    ''' Returns paths to noise samples.'''\n",
    "    datadir = Path(path)\n",
    "    files = [str(f) for f in datadir.glob('**/*.wav') if f]\n",
    "    return files[0:samples_nr]"
   ]
  },
  {
   "cell_type": "code",
   "execution_count": null,
   "outputs": [],
   "source": [
    "wav = get_audio('data_new/training/bed/0c2ca723_nohash_1.wav')\n",
    "bg = get_audio('noise/a001_80_90.wav')\n",
    "start_ = np.random.randint(bg.shape[0]-16000)\n",
    "bg_slice = bg[start_ : start_+16000]\n",
    "wav_with_bg = wav * np.random.uniform(0.8, 1.2) + \\\n",
    "              bg * np.random.uniform(0, 1)\n",
    "\n",
    "librosa.output.write_wav(path=\"output2.wav\", y=wav_with_bg, sr=16000 )\n",
    " \n",
    "\n",
    "from playsound import playsound\n",
    "\n",
    "playsound(\"output2.wav\")"
   ],
   "metadata": {
    "collapsed": false,
    "pycharm": {
     "name": "#%%\n"
    }
   }
  },
  {
   "cell_type": "code",
   "execution_count": 2,
   "outputs": [],
   "source": [
    "from IPython.display import clear_output\n",
    "from tensorflow import keras\n",
    "\n",
    "audio_buffer = np.zeros((5, 3200))\n",
    "last_recognized_word = None\n",
    "last_recognition_time = 0\n",
    "recognition_timeout = 1.0\n",
    "word2index = {\n",
    "    # core words\n",
    "    \"yes\": 0,\n",
    "    \"no\": 1,\n",
    "    \"up\": 2,\n",
    "    \"down\": 3,\n",
    "    \"left\": 4,\n",
    "    \"right\": 5,\n",
    "    \"on\": 6,\n",
    "    \"off\": 7,\n",
    "    \"stop\": 8,\n",
    "    \"go\": 9,\n",
    "    \"unknown\": 10\n",
    "}\n",
    "index2word = [word for word in word2index]\n",
    "model = keras.models.load_model(\"models/model_January_16/model.11.hdf5\")\n",
    "\n",
    "def audio_stream_callback(indata, frames, time, status):\n",
    "    global audio_buffer\n",
    "    global model\n",
    "    global index2word\n",
    "    global last_recognized_word\n",
    "    global last_recognition_time\n",
    "    audio_buffer = np.roll(audio_buffer, shift=-1, axis=0)\n",
    "    audio_buffer[-1, :] = np.squeeze(indata)\n",
    "    recorded_feature = audio2feature(audio_buffer.flatten())\n",
    "    recorded_feature = np.expand_dims(recorded_feature, 0) # add \"fake\" batch dimension 1\n",
    "    prediction = model.predict(recorded_feature).reshape((11, ))\n",
    "    # normalize prediction output to get \"probabilities\"\n",
    "    prediction /= prediction.sum()\n",
    "    best_candidate_index = prediction.argmax()\n",
    "    best_candidate_probability = prediction[best_candidate_index]\n",
    "    \n",
    "    if(best_candidate_probability > 0.5): # treshold\n",
    "        word = index2word[best_candidate_index]\n",
    "        if( (timer()-last_recognition_time)>recognition_timeout or word!=last_recognized_word ):\n",
    "            last_recognition_time = timer()\n",
    "            last_recognized_word = word\n",
    "            clear_output(wait=True) # clear ouput as soon as new output is available to replace it\n",
    "            print(\"%s\\t:\\t%2.1f%%\" % (word, best_candidate_probability*100))\n",
    "            print(\"-----------------------------\")\n"
   ],
   "metadata": {
    "collapsed": false,
    "pycharm": {
     "name": "#%%\n",
     "is_executing": false
    }
   }
  },
  {
   "cell_type": "code",
   "execution_count": 6,
   "outputs": [
    {
     "name": "stdout",
     "text": [
      "unknown\t:\t78.4%\n",
      "-----------------------------\n"
     ],
     "output_type": "stream"
    }
   ],
   "source": [
    "import sounddevice as sd\n",
    "# REALTIME KEYWORD RECOGNITION DEMO (60s long)\n",
    "with sd.InputStream(samplerate=16000, blocksize=3200, device=None, channels=1, dtype=\"float32\", callback=audio_stream_callback):\n",
    "    sd.sleep(60*1000)\n"
   ],
   "metadata": {
    "collapsed": false,
    "pycharm": {
     "name": "#%%\n",
     "is_executing": false
    }
   }
  },
  {
   "cell_type": "code",
   "execution_count": 11,
   "outputs": [
    {
     "name": "stdout",
     "text": [
      "['yes', 'no', 'up', 'down', 'left', 'right', 'on', 'off', 'stop', 'go', 'unknown']\n",
      "loading dataset...\n"
     ],
     "output_type": "stream"
    },
    {
     "name": "stderr",
     "text": [
      "6459it [00:04, 1578.13it/s]\n"
     ],
     "output_type": "stream"
    }
   ],
   "source": [
    "import matplotlib\n",
    "import numpy as np\n",
    "import librosa\n",
    "from tensorflow import keras\n",
    "from pathlib import Path\n",
    "from tqdm import tqdm\n",
    "# %matplotlib inline\n",
    "import matplotlib.pyplot as plt\n",
    "from sklearn.metrics import confusion_matrix\n",
    "import pandas as pd\n",
    "from scipy import signal\n",
    "\n",
    "\n",
    "def get_audio(path, sample_rate=16000):\n",
    "    wav, wav_sr = librosa.load(path, sr=sample_rate)\n",
    "    if wav.size < 16000:\n",
    "        return np.pad(wav, (16000 - wav.size, 0), mode='constant')\n",
    "    else:\n",
    "        return wav[0:16000]\n",
    "\n",
    "word2index = {\n",
    "    # core words\n",
    "    \"yes\": 0,\n",
    "    \"no\": 1,\n",
    "    \"up\": 2,\n",
    "    \"down\": 3,\n",
    "    \"left\": 4,\n",
    "    \"right\": 5,\n",
    "    \"on\": 6,\n",
    "    \"off\": 7,\n",
    "    \"stop\": 8,\n",
    "    \"go\": 9,\n",
    "    \"unknown\": 10\n",
    "}\n",
    "\n",
    "def signaltonoise(command, noise):\n",
    "    c = np.mean(command)\n",
    "    n = np.mean(noise)\n",
    "\n",
    "    return np.abs(c / n)\n",
    "\n",
    "\n",
    "def get_nr_noises(path, samples_nr):\n",
    "    ''' Returns paths to noise samples.'''\n",
    "    datadir = Path(path)\n",
    "    files = [str(f) for f in datadir.glob('**/*.wav') if f]\n",
    "    return files[0:samples_nr]\n",
    "\n",
    "def get_data(path):\n",
    "    ''' Returns dataframe with columns: 'path', 'word'.'''\n",
    "    datadir = Path(path)\n",
    "    files = [(str(f), f.parts[-2]) for f in datadir.glob('**/*.wav') if f]\n",
    "    df = pd.DataFrame(files, columns=['path', 'word'])\n",
    "\n",
    "    return df\n",
    "\n",
    "\n",
    "def prepare_data(df):\n",
    "    '''Transform data into something more useful.'''\n",
    "    train_words = ['yes', 'no', 'up', 'down',\n",
    "                   'left', 'right', 'on', 'off', 'stop', 'go']\n",
    "\n",
    "    df.loc[~df.word.isin(train_words), 'word'] = 'unknown'\n",
    "    return df\n",
    "\n",
    "def get_specgram(audio):\n",
    "    data = signal.spectrogram(audio, nperseg=256, noverlap=128)[2]\n",
    "    # print(data.shape)\n",
    "    return data\n",
    "\n",
    "index2word = [word for word in word2index]\n",
    "print(index2word)\n",
    "\n",
    "print(\"loading dataset...\")\n",
    "# train = prepare_data(get_data('/macierz/home/s165554/pg/szum/data/evaluation/'))\n",
    "test = prepare_data(get_data('../data/orginal/evaluation'))\n",
    "# noises = get_nr_noises(\"../data/noise\", len(test))\n",
    "noises = None\n",
    "with_noise = False\n",
    "model = keras.models.load_model(\"models/model_with_get_specgram/model.17.hdf5\")\n",
    "\n",
    "samples = []\n",
    "classes = []\n",
    "snr = []\n",
    "\n",
    "for class_name in test.word:\n",
    "    classes.append(word2index[class_name])\n",
    "classes = np.array(classes, dtype=np.int)\n",
    "\n",
    "test = np.array(test.path)\n",
    "snr_ratio = 0.25\n",
    "# 5, 4, 3, 2, 1, 0.5, 0.33, 0.25, 0.20\n",
    "\n",
    "for id, path in tqdm(enumerate(test)):\n",
    "    command = get_audio(path)\n",
    "    samples.append(command)\n",
    "\n",
    "test = np.array(samples)\n",
    "classes = np.array(classes, dtype=np.int)\n",
    "\n",
    "correct = 0\n",
    "predicted = []"
   ],
   "metadata": {
    "collapsed": false,
    "pycharm": {
     "name": "#%%\n",
     "is_executing": false
    }
   }
  },
  {
   "cell_type": "code",
   "execution_count": 14,
   "outputs": [
    {
     "name": "stdout",
     "text": [
      "TOP1 acc = 0.7592506579965939\n"
     ],
     "output_type": "stream"
    },
    {
     "data": {
      "text/plain": "<Figure size 576x576 with 2 Axes>",
      "image/png": "[encoded data removed]"
     },
     "metadata": {
      "needs_background": "light"
     },
     "output_type": "display_data"
    }
   ],
   "source": [
    "correct = 0\n",
    "predicted = []\n",
    "\n",
    "for id, rec in enumerate(test):\n",
    "    recorded_feature = get_specgram(rec)\n",
    "\n",
    "    recorded_feature = np.expand_dims(recorded_feature, 0)  # add \"fake\" batch dimension 1\n",
    "    prediction = model.predict(recorded_feature).reshape((11,))\n",
    "\n",
    "    # normalize prediction output to get \"probabilities\"\n",
    "    prediction /= prediction.sum()\n",
    "    max_class_id = prediction.argmax()\n",
    "    # print the 3 candidates with highest probability\n",
    "    predicted.append(max_class_id)\n",
    "    #print(\"candidates:\\n------------  \" + index2word[classes[id]])\n",
    "    #print(\"SNR = \" + str(snr[id])))\n",
    "    if index2word[max_class_id] == index2word[classes[id]]:\n",
    "        correct += 1\n",
    "\n",
    "    #print(\"-----------------------------\")\n",
    "\n",
    "acc = correct / len(samples)\n",
    "print(\"TOP1 acc = \" + str(acc))\n",
    "cm = confusion_matrix(classes, predicted, normalize=\"all\")\n",
    "%matplotlib inline\n",
    "plt.close()\n",
    "plt.figure(figsize = (8,8))\n",
    "plt.imshow(cm, cmap=plt.cm.Blues)\n",
    "plt.xlabel(\"Predicted labels\")\n",
    "plt.ylabel(\"True labels\")\n",
    "plt.xticks(np.arange(0, 11, 1), index2word, rotation=90)\n",
    "plt.yticks(np.arange(0, 11, 1), index2word)\n",
    "plt.tick_params(labelsize=12)\n",
    "plt.title('Confusion matrix ')\n",
    "plt.colorbar()\n",
    "plt.savefig('origin_dataset.png')\n",
    "plt.show()"
   ],
   "metadata": {
    "collapsed": false,
    "pycharm": {
     "name": "#%%\n",
     "is_executing": false
    }
   }
  },
  {
   "cell_type": "code",
   "execution_count": 9,
   "outputs": [
    {
     "name": "stdout",
     "text": [
      "[7, 8, 8, 2, 7, 7, 2, 7, 2, 7, 5, 2, 7, 7, 8, 8, 2, 8, 2, 7, 2, 8, 8, 8, 7, 2, 2, 2, 1, 8, 2, 7, 7, 7, 8, 7, 7, 6, 5, 8, 8, 2, 7, 7, 2, 2, 2, 7, 2, 7, 2, 2, 2, 7, 8, 7, 2, 2, 8, 8, 2, 2, 8, 7, 2, 8, 6, 8, 7, 7, 3, 7, 7, 7, 2, 2, 2, 7, 2, 7, 2, 2, 5, 8, 8, 7, 7, 2, 2, 7, 6, 2, 2, 8, 6, 8, 2, 2, 7, 7, 8, 6, 7, 8, 2, 2, 7, 7, 2, 8, 8, 0, 8, 2, 0, 7, 8, 2, 7, 7, 2, 6, 7, 7, 2, 2, 8, 7, 7, 2, 8, 2, 2, 8, 7, 7, 7, 7, 7, 7, 2, 7, 2, 2, 7, 2, 3, 8, 8, 6, 8, 7, 7, 7, 2, 2, 8, 8, 3, 2, 7, 2, 7, 8, 2, 2, 2, 6, 3, 7, 8, 2, 0, 2, 8, 2, 0, 0, 7, 7, 2, 8, 8, 7, 2, 8, 7, 8, 3, 7, 2, 2, 2, 0, 0, 6, 0, 0, 7, 0, 8, 7, 2, 2, 0, 0, 0, 2, 0, 7, 7, 2, 0, 0, 2, 3, 0, 7, 2, 7, 2, 2, 0, 7, 2, 7, 0, 2, 0, 8, 7, 6, 8, 7, 7, 2, 0, 2, 8, 0, 2, 7, 2, 2, 2, 0, 2, 7, 7, 2, 0, 0, 0, 0, 0, 2, 2, 0, 0, 7, 0, 0, 0, 2, 2, 7, 7, 7, 7, 0, 7, 7, 8, 8, 0, 0, 0, 0, 0, 2, 0, 2, 7, 8, 2, 0, 8, 0, 8, 2, 8, 0, 0, 7, 2, 0, 2, 0, 8, 0, 2, 2, 0, 7, 2, 2, 0, 0, 8, 0, 7, 2, 7, 7, 0, 0, 0, 2, 7, 7, 2, 0, 2, 2, 0, 2, 7, 7, 2, 7, 8, 0, 8, 0, 0, 0, 8, 2, 2, 6, 8, 0, 0, 2, 7, 5, 7, 7, 5, 7, 2, 6, 5, 7, 6, 7, 7, 2, 7, 5, 2, 4, 7, 2, 7, 6, 7, 7, 6, 5, 0, 5, 5, 7, 2, 2, 2, 2, 5, 9, 9, 2, 3, 7, 7, 7, 6, 0, 7, 2, 2, 2, 5, 7, 0, 3, 2, 7, 7, 2, 6, 6, 2, 2, 7, 7, 2, 6, 7, 7, 7, 8, 5, 7, 5, 6, 3, 0, 2, 6, 2, 6, 7, 4, 2, 2, 7, 7, 0, 7, 7, 8, 2, 1, 6, 7, 7, 0, 7, 8, 2, 2, 2, 2, 7, 7, 7, 2, 2, 7, 2, 7, 7, 5, 7, 7, 6, 7, 5, 7, 6, 7, 0, 2, 6, 6, 2, 7, 5, 2, 9, 7, 9, 5, 7, 9, 2, 8, 7, 8, 7, 7, 7, 7, 7, 8, 2, 0, 9, 5, 8, 2, 2, 7, 8, 2, 5, 7, 8, 2, 6, 1, 7, 7, 8, 7, 5, 5, 0, 6, 2, 9, 7, 2, 7, 0, 5, 2, 0, 2, 0, 0, 0, 2, 0, 0, 0, 7, 0, 0, 6, 7, 0, 0, 0, 0, 0, 2, 7, 0, 0, 0, 0, 0, 2, 2, 0, 7, 7, 0, 0, 0, 2, 0, 0, 0, 0, 1, 0, 0, 7, 6, 7, 0, 7, 7, 0, 2, 7, 0, 0, 7, 2, 0, 7, 2, 7, 0, 0, 7, 0, 7, 0, 0, 2, 7, 0, 0, 0, 0, 8, 8, 6, 0, 0, 0, 2, 8, 0, 0, 0, 2, 7, 0, 0, 7, 0, 0, 2, 2, 7, 7, 7, 2, 0, 6, 0, 0, 0, 2, 6, 2, 0, 0, 0, 0, 2, 0, 2, 7, 2, 0, 0, 0, 0, 0, 2, 0, 0, 0, 0, 7, 2, 0, 0, 2, 4, 4, 0, 2, 5, 0, 0, 4, 0, 0, 0, 7, 0, 2, 8, 2, 0, 0, 0, 0, 0, 0, 0, 2, 2, 0, 0, 0, 0, 0, 0, 2, 0, 2, 7, 0, 0, 0, 2, 0, 2, 0, 0, 0, 5, 2, 7, 7, 4, 2, 2, 7, 7, 2, 7, 2, 7, 2, 6, 2, 7, 2, 5, 2, 2, 2, 4, 7, 2, 7, 7, 2, 2, 7, 2, 7, 7, 2, 2, 0, 7, 2, 7, 2, 7, 2, 7, 6, 7, 7, 7, 2, 2, 7, 2, 7, 2, 2, 0, 2, 2, 5, 7, 7, 2, 2, 7, 2, 2, 5, 2, 2, 7, 2, 7, 7, 2, 7, 2, 7, 2, 7, 2, 0, 7, 7, 6, 2, 2, 7, 7, 2, 7, 7, 2, 7, 2, 7, 2, 2, 2, 2, 7, 2, 7, 8, 7, 2, 7, 2, 7, 2, 5, 5, 2, 2, 5, 2, 7, 2, 7, 2, 7, 7, 7, 0, 2, 0, 2, 7, 2, 2, 7, 7, 2, 2, 2, 2, 2, 2, 2, 0, 2, 2, 2, 4, 2, 7, 2, 7, 2, 7, 2, 5, 2, 2, 7, 7, 2, 7, 7, 7, 2, 2, 9, 7, 0, 7, 2, 0, 2, 2, 2, 2, 5, 7, 7, 7, 7, 7, 2, 2, 2, 7, 2, 7, 2, 7, 7, 7, 2, 2, 2, 2, 2, 8, 7, 4, 4, 2, 2, 0, 2, 7, 2, 7, 2, 7, 7, 2, 2, 7, 2, 5, 2, 0, 0, 0, 2, 2, 7, 7, 7, 2, 2, 2, 2, 7, 2, 7, 0, 7, 2, 2, 2, 7, 2, 7, 2, 7, 7, 6, 2, 2, 7, 8, 2, 7, 8, 7, 3, 8, 8, 4, 1, 4, 2, 2, 2, 8, 7, 8, 2, 0, 2, 8, 8, 2, 2, 2, 1, 1, 8, 7, 2, 1, 2, 7, 7, 0, 7, 7, 2, 7, 7, 2, 2, 2, 2, 7, 2, 7, 2, 2, 7, 8, 8, 7, 2, 3, 8, 2, 8, 2, 6, 1, 2, 8, 2, 1, 2, 2, 2, 2, 2, 2, 2, 8, 2, 8, 2, 3, 8, 2, 2, 2, 2, 7, 2, 2, 2, 8, 2, 2, 2, 2, 2, 2, 7, 3, 2, 8, 2, 8, 1, 8, 8, 7, 8, 8, 7, 2, 2, 2, 8, 7, 8, 2, 7, 2, 2, 2, 2, 2, 2, 2, 7, 8, 8, 2, 6, 8, 2, 9, 8, 2, 2, 3, 2, 2, 8, 2, 2, 2, 2, 8, 2, 2, 4, 0, 8, 2, 5, 7, 2, 8, 3, 0, 7, 8, 8, 2, 4, 2, 8, 8, 2, 2, 8, 8, 2, 6, 0, 8, 6, 2, 7, 2, 2, 2, 4, 7, 2, 8, 8, 8, 7, 7, 2, 2, 8, 8, 2, 2, 2, 8, 7, 8, 8, 2, 2, 8, 2, 2, 2, 1, 7, 2, 8, 8, 4, 1, 2, 2, 2, 2, 2, 2, 8, 8, 2, 7, 0, 1, 7, 0, 2, 2, 2, 7, 7, 8, 8, 2, 8, 0, 0, 0, 0, 0, 0, 0, 0, 0, 0, 0, 0, 0, 2, 0, 1, 2, 0, 7, 2, 0, 0, 0, 0, 2, 0, 0, 0, 7, 0, 0, 0, 0, 0, 0, 7, 0, 0, 9, 9, 8, 0, 2, 7, 0, 7, 7, 0, 0, 0, 0, 0, 0, 0, 0, 0, 7, 2, 0, 0, 0, 0, 0, 0, 0, 2, 0, 0, 0, 1, 7, 0, 0, 2, 0, 0, 0, 0, 1, 0, 0, 0, 0, 0, 0, 2, 0, 0, 4, 2, 0, 0, 2, 0, 2, 0, 7, 0, 0, 2, 0, 0, 0, 0, 2, 0, 7, 0, 0, 0, 1, 0, 0, 0, 0, 0, 0, 2, 0, 0, 0, 0, 0, 0, 0, 0, 0, 0, 0, 0, 0, 0, 1, 0, 0, 0, 0, 0, 2, 0, 2, 2, 0, 0, 0, 0, 0, 0, 0, 0, 2, 0, 0, 0, 0, 0, 0, 0, 2, 0, 2, 2, 0, 0, 0, 0, 0, 0, 0, 7, 0, 0, 0, 0, 0, 8, 0, 0, 0, 0, 2, 0, 0, 9, 2, 1, 0, 0, 2, 0, 2, 8, 0, 0, 8, 0, 2, 0, 0, 2, 0, 0, 0, 0, 0, 0, 0, 0, 0, 7, 0, 2, 0, 1, 7, 2, 7, 0, 0, 2, 0, 0, 0, 7, 0, 0, 2, 0, 0, 9, 8, 7, 0, 8, 0, 2, 7, 2, 2, 2, 2, 2, 2, 2, 7, 2, 7, 0, 8, 8, 2, 2, 2, 2, 2, 0, 0, 2, 7, 0, 7, 6, 2, 0, 8, 2, 2, 2, 7, 2, 0, 8, 0, 2, 0, 2, 0, 8, 0, 2, 2, 0, 8, 0, 2, 2, 8, 0, 7, 2, 2, 2, 2, 2, 7, 2, 2, 7, 8, 2, 2, 2, 2, 2, 8, 0, 2, 2, 2, 0, 7, 0, 7, 0, 2, 2, 0, 2, 8, 2, 2, 0, 8, 2, 0, 2, 0, 2, 2, 0, 2, 2, 2, 0, 0, 2, 2, 8, 8, 2, 2, 0, 0, 2, 2, 2, 0, 0, 0, 0, 2, 2, 2, 2, 2, 2, 2, 2, 2, 0, 2, 0, 2, 7, 2, 2, 2, 2, 8, 2, 0, 8, 2, 0, 2, 7, 2, 8, 2, 2, 0, 2, 2, 2, 7, 2, 0, 2, 2, 2, 7, 0, 7, 2, 2, 0, 2, 2, 7, 8, 6, 7, 2, 7, 7, 7, 2, 2, 2, 2, 2, 2, 2, 8, 8, 2, 0, 2, 0, 2, 0, 0, 0, 0, 2, 0, 7, 7, 2, 2, 0, 0, 0, 0, 0, 2, 0, 8, 0, 2, 7, 2, 2, 2, 2, 7, 0, 2, 2, 8, 2, 8, 0, 8, 2, 2, 2, 2, 2, 8, 2, 0, 2, 0, 7, 2, 0, 2, 0, 2, 2, 0, 7, 4, 0, 7, 7, 7, 6, 7, 5, 2, 7, 0, 8, 7, 2, 6, 7, 7, 7, 7, 7, 2, 7, 6, 2, 2, 6, 7, 4, 7, 8, 8, 2, 8, 7, 6, 7, 7, 8, 7, 8, 0, 6, 6, 7, 7, 7, 7, 7, 7, 0, 0, 2, 2, 7, 4, 2, 7, 7, 2, 7, 7, 2, 8, 2, 6, 7, 7, 8, 7, 7, 8, 7, 7, 8, 7, 7, 0, 6, 7, 7, 7, 2, 8, 7, 7, 7, 7, 8, 8, 7, 7, 0, 7, 6, 2, 2, 7, 7, 7, 6, 7, 7, 7, 0, 7, 2, 7, 7, 7, 2, 0, 7, 7, 7, 0, 7, 6, 2, 2, 7, 0, 7, 5, 0, 0, 2, 6, 8, 7, 2, 7, 7, 2, 7, 7, 7, 7, 0, 4, 7, 0, 6, 2, 7, 5, 6, 7, 0, 4, 7, 7, 0, 7, 6, 0, 7, 2, 7, 7, 5, 0, 7, 0, 6, 8, 6, 7, 2, 7, 8, 2, 0, 7, 2, 7, 0, 7, 2, 7, 2, 8, 2, 7, 7, 0, 8, 8, 7, 4, 6, 6, 7, 7, 2, 7, 7, 7, 5, 7, 8, 7, 7, 8, 6, 2, 7, 7, 4, 4, 0, 7, 7, 7, 7, 0, 7, 0, 7, 8, 2, 0, 8, 7, 7, 4, 0, 2, 0, 6, 0, 7, 6, 0, 2, 7, 7, 7, 7, 7, 0, 2, 0, 0, 5, 2, 7, 0, 7, 0, 0, 8, 0, 7, 7, 7, 0, 7, 7, 7, 7, 7, 0, 0, 0, 7, 7, 7, 2, 7, 0, 8, 0, 0, 7, 8, 7, 0, 0, 2, 7, 9, 6, 7, 7, 7, 0, 7, 7, 0, 0, 1, 7, 7, 0, 0, 0, 0, 7, 0, 2, 7, 7, 0, 7, 7, 0, 7, 7, 2, 7, 0, 2, 7, 0, 0, 0, 0, 0, 0, 4, 8, 0, 2, 0, 7, 0, 7, 7, 8, 7, 7, 3, 6, 7, 7, 3, 7, 0, 0, 5, 7, 7, 7, 7, 2, 8, 0, 0, 0, 7, 7, 8, 0, 0, 0, 7, 7, 0, 7, 0, 7, 6, 6, 7, 0, 0, 3, 0, 0, 6, 0, 7, 7, 7, 7, 2, 7, 7, 7, 2, 2, 0, 6, 0, 7, 7, 3, 7, 7, 0, 7, 7, 7, 0, 0, 7, 7, 7, 7, 0, 6, 7, 7, 8, 0, 4, 8, 8, 7, 7, 8, 0, 0, 7, 0, 2, 0, 0, 0, 8, 4, 0, 0, 9, 0, 0, 5, 0, 7, 7, 0, 0, 7, 0, 7, 4, 7, 8, 0, 2, 0, 7, 0, 3, 0, 4, 0, 0, 0, 0, 0, 0, 0, 0, 0, 0, 0, 0, 7, 0, 1, 7, 0, 0, 4, 0, 5, 5, 0, 7, 0, 0, 0, 0, 9, 7, 0, 2, 7, 0, 7, 0, 0, 4, 0, 0, 6, 7, 4, 5, 7, 0, 0, 0, 0, 5, 0, 0, 0, 0, 0, 0, 0, 0, 0, 0, 7, 8, 0, 4, 0, 0, 7, 7, 2, 0, 0, 7, 7, 0, 0, 0, 7, 0, 0, 0, 4, 0, 0, 3, 7, 7, 4, 3, 0, 0, 0, 1, 0, 7, 0, 8, 0, 2, 0, 2, 7, 2, 0, 7, 0, 7, 2, 0, 7, 0, 0, 7, 7, 0, 0, 0, 0, 6, 0, 0, 0, 0, 0, 0, 7, 0, 0, 0, 0, 0, 4, 0, 1, 5, 0, 0, 0, 0, 0, 7, 6, 3, 3, 9, 8, 7, 5, 2, 0, 9, 6, 6, 0, 6, 5, 7, 7, 1, 3, 7, 7, 7, 7, 6, 2, 6, 0, 7, 6, 2, 6, 6, 7, 7, 7, 7, 7, 7, 7, 0, 7, 6, 7, 0, 0, 2, 7, 7, 6, 7, 7, 6, 6, 7, 3, 7, 7, 6, 7, 8, 6, 6, 7, 7, 8, 6, 6, 6, 2, 7, 7, 7, 7, 8, 6, 3, 7, 6, 6, 7, 7, 7, 8, 7, 0, 7, 8, 7, 9, 7, 8, 6, 6, 0, 7, 9, 7, 7, 8, 7, 3, 6, 6, 9, 7, 6, 6, 1, 6, 7, 6, 3, 8, 7, 7, 7, 2, 6, 3, 7, 1, 0, 2, 6, 3, 7, 7, 0, 8, 6, 6, 3, 6, 2, 2, 8, 8, 3, 6, 7, 0, 0, 1, 7, 3, 6, 0, 5, 0, 0, 0, 5, 3, 7, 7, 3, 7, 3, 7, 7, 2, 7, 2, 7, 7, 6, 8, 6, 6, 7, 6, 7, 6, 6, 6, 7, 6, 2, 7, 6, 7, 7, 7, 7, 6, 5, 6, 6, 3, 7, 7, 9, 6, 6, 3, 2, 3, 3, 6, 2, 7, 7, 6, 7, 8, 6, 8, 6, 7, 6, 7, 7, 7, 6, 0, 6, 1, 3, 3, 6, 6, 7, 6, 1, 7, 6, 1, 7, 7, 8, 7, 6, 6, 8, 0, 2, 0, 0, 0, 0, 0, 0, 8, 0, 8, 0, 0, 0, 0, 0, 0, 0, 0, 0, 0, 0, 2, 0, 7, 7, 0, 0, 0, 2, 7, 0, 2, 0, 7, 0, 0, 0, 0, 0, 0, 0, 7, 0, 0, 8, 0, 0, 7, 2, 2, 0, 0, 0, 2, 7, 0, 0, 0, 0, 0, 0, 2, 0, 0, 0, 0, 7, 7, 2, 0, 0, 2, 0, 2, 1, 0, 0, 0, 2, 0, 0, 0, 0, 0, 0, 0, 0, 2, 0, 2, 0, 0, 0, 2, 0, 0, 0, 2, 0, 0, 0, 0, 0, 0, 0, 0, 0, 0, 2, 0, 0, 0, 2, 0, 8, 0, 0, 7, 0, 0, 0, 7, 0, 0, 0, 0, 2, 0, 2, 0, 2, 0, 7, 0, 0, 0, 7, 2, 2, 7, 0, 0, 7, 0, 0, 0, 2, 0, 0, 3, 0, 0, 0, 0, 7, 0, 0, 0, 0, 8, 0, 0, 0, 0, 0, 5, 7, 0, 7, 7, 2, 0, 2, 7, 0, 0, 5, 0, 7, 2, 0, 0, 2, 7, 0, 7, 7, 8, 7, 2, 2, 7, 0, 0, 0, 0, 7, 2, 2, 2, 2, 7, 5, 7, 0, 0, 2, 0, 0, 2, 2, 0, 0, 2, 0, 8, 2, 2, 7, 2, 0, 7, 2, 0, 0, 7, 0, 2, 0, 2, 2, 0, 7, 2, 7, 0, 2, 0, 7, 2, 2, 0, 7, 2, 0, 0, 2, 2, 8, 8, 2, 0, 2, 2, 0, 0, 7, 0, 2, 0, 0, 7, 0, 8, 2, 9, 2, 2, 0, 0, 2, 0, 2, 0, 0, 7, 7, 7, 0, 2, 2, 8, 2, 2, 2, 2, 7, 8, 7, 2, 7, 2, 7, 7, 0, 0, 2, 7, 8, 0, 6, 2, 0, 0, 7, 8, 7, 0, 0, 2, 0, 0, 2, 7, 0, 0, 0, 7, 0, 0, 0, 0, 7, 0, 0, 7, 0, 8, 0, 7, 8, 0, 7, 9, 2, 2, 0, 0, 5, 7, 2, 2, 8, 0, 8, 0, 0, 2, 0, 0, 2, 7, 2, 2, 7, 7, 7, 0, 8, 0, 2, 2, 0, 8, 2, 0, 2, 7, 0, 0, 7, 0, 0, 2, 8, 0, 2, 0, 8, 7, 7, 2, 2, 8, 0, 0, 0, 2, 7, 2, 7, 8, 7, 7, 8, 0, 8, 0, 0, 2, 7, 2, 5, 0, 2, 7, 7, 0, 2, 7, 2, 7, 8, 6, 7, 0, 8, 7, 0, 7, 7, 7, 7, 5, 2, 0, 2, 7, 2, 7, 7, 0, 0, 8, 8, 6, 8, 2, 8, 0, 0, 0, 0, 5, 7, 7, 6, 7, 2, 2, 7, 7, 2, 6, 0, 7, 4, 7, 2, 5, 8, 2, 2, 7, 8, 8, 2, 8, 7, 3, 2, 7, 0, 7, 2, 7, 7, 6, 2, 4, 0, 0, 7, 8, 7, 7, 7, 7, 7, 7, 7, 7, 7, 7, 8, 7, 2, 7, 8, 8, 0, 7, 5, 5, 7, 2, 7, 6, 2, 7, 4, 4, 4, 7, 7, 7, 0, 2, 2, 4, 0, 7, 8, 2, 7, 7, 0, 2, 8, 0, 7, 0, 0, 9, 0, 8, 2, 0, 8, 2, 4, 7, 7, 7, 8, 4, 0, 7, 7, 7, 2, 2, 7, 0, 2, 0, 0, 2, 7, 7, 2, 7, 7, 7, 7, 7, 2, 8, 6, 7, 7, 7, 4, 7, 8, 2, 7, 0, 0, 7, 7, 6, 7, 0, 7, 7, 7, 0, 2, 8, 0, 2, 8, 7, 5, 8, 7, 0, 8, 7, 8, 8, 7, 8, 2, 0, 2, 2, 7, 7, 5, 7, 8, 7, 0, 7, 7, 0, 8, 2, 7, 7, 7, 7, 6, 7, 0, 0, 7, 7, 4, 2, 7, 7, 7, 0, 4, 6, 7, 6, 7, 7, 8, 8, 8, 7, 0, 1, 0, 0, 9, 7, 0, 3, 3, 3, 4, 5, 3, 0, 5, 5, 0, 6, 0, 0, 0, 0, 0, 9, 0, 0, 0, 5, 3, 3, 0, 0, 5, 2, 5, 0, 2, 0, 0, 4, 2, 0, 3, 0, 0, 0, 0, 3, 0, 5, 0, 0, 4, 0, 5, 0, 0, 0, 3, 0, 9, 0, 3, 0, 4, 0, 0, 0, 5, 0, 5, 5, 1, 0, 8, 0, 5, 9, 0, 0, 0, 5, 0, 0, 5, 0, 0, 5, 0, 0, 0, 0, 5, 0, 0, 9, 0, 0, 5, 5, 3, 3, 3, 5, 9, 5, 9, 0, 0, 0, 5, 0, 0, 5, 0, 3, 0, 0, 0, 5, 4, 0, 0, 1, 0, 0, 9, 9, 2, 0, 0, 0, 0, 0, 0, 0, 5, 0, 9, 0, 0, 0, 0, 0, 5, 2, 0, 5, 0, 0, 0, 5, 0, 9, 5, 0, 0, 0, 2, 9, 2, 9, 3, 0, 3, 0, 1, 0, 0, 0, 0, 3, 0, 0, 0, 5, 5, 0, 0, 0, 0, 0, 0, 0, 2, 5, 5, 7, 9, 0, 0, 0, 0, 5, 0, 1, 7, 3, 0, 3, 1, 0, 8, 0, 0, 0, 8, 0, 5, 0, 0, 0, 5, 0, 0, 5, 0, 3, 8, 0, 0, 8, 0, 0, 0, 0, 5, 0, 0, 0, 0, 3, 3, 8, 5, 0, 2, 7, 0, 0, 0, 5, 0, 4, 0, 0, 0, 0, 2, 0, 7, 0, 0, 0, 0, 8, 0, 2, 0, 0, 0, 2, 0, 0, 0, 0, 0, 0, 0, 4, 0, 0, 2, 0, 0, 0, 0, 0, 0, 0, 0, 0, 5, 2, 0, 7, 4, 0, 0, 5, 8, 0, 0, 5, 0, 0, 8, 0, 2, 0, 0, 0, 0, 8, 0, 0, 2, 0, 8, 5, 0, 0, 0, 9, 0, 2, 0, 0, 0, 2, 0, 0, 8, 0, 0, 2, 8, 0, 0, 0, 0, 2, 0, 0, 0, 9, 0, 9, 2, 0, 4, 0, 0, 0, 0, 0, 4, 0, 2, 0, 0, 0, 2, 8, 9, 0, 3, 0, 4, 0, 0, 2, 0, 0, 5, 0, 2, 0, 5, 5, 0, 0, 8, 0, 0, 9, 0, 0, 0, 0, 0, 0, 2, 0, 0, 0, 2, 0, 0, 0, 0, 0, 2, 0, 0, 0, 0, 2, 2, 0, 0, 5, 0, 0, 0, 0, 2, 0, 0, 5, 0, 7, 5, 2, 0, 0, 0, 0, 0, 0, 0, 9, 0, 2, 8, 8, 8, 0, 0, 0, 2, 5, 5, 0, 0, 0, 0, 0, 0, 0, 8, 0, 0, 0, 0, 2, 0, 0, 0, 2, 0, 0, 2, 7, 0, 0, 0, 2, 0, 0, 8, 2, 0, 0, 2, 0, 0, 8, 2, 5, 0, 2, 7, 8, 2, 2, 8, 7, 2, 9, 2, 0, 2, 8, 2, 6, 0, 8, 0, 7, 2, 7, 7, 8, 0, 0, 7, 1, 6, 2, 0, 0, 0, 6, 2, 2, 0, 8, 2, 2, 8, 0, 0, 8, 7, 2, 7, 7, 0, 0, 7, 1, 2, 2, 7, 2, 0, 0, 2, 0, 7, 2, 0, 0, 2, 7, 0, 0, 7, 2, 7, 7, 1, 3, 2, 7, 2, 0, 0, 0, 0, 2, 0, 0, 9, 2, 2, 2, 2, 0, 8, 7, 7, 2, 0, 0, 2, 0, 7, 7, 0, 2, 7, 7, 2, 4, 7, 0, 2, 2, 0, 8, 0, 2, 2, 0, 2, 2, 7, 7, 7, 0, 0, 0, 2, 9, 3, 2, 0, 0, 7, 2, 0, 6, 9, 7, 7, 7, 2, 0, 0, 0, 7, 0, 0, 2, 0, 2, 0, 7, 2, 0, 0, 1, 0, 3, 0, 9, 0, 7, 0, 7, 0, 2, 0, 0, 2, 2, 2, 2, 6, 7, 7, 7, 2, 7, 7, 2, 2, 2, 2, 2, 0, 2, 2, 2, 2, 0, 2, 2, 0, 2, 2, 0, 0, 2, 2, 2, 7, 0, 7, 2, 0, 2, 0, 2, 0, 7, 2, 2, 7, 6, 8, 7, 0, 1, 0, 2, 0, 8, 0, 8, 0, 0, 0, 7, 7, 2, 2, 2, 0, 8, 0, 7, 2, 2, 7, 2, 7, 7, 7, 7, 7, 0, 2, 7, 7, 7, 0, 7, 7, 0, 0, 7, 7, 7, 7, 7, 7, 7, 7, 7, 0, 7, 7, 6, 7, 8, 8, 7, 7, 2, 7, 6, 7, 0, 7, 7, 0, 8, 7, 7, 7, 0, 7, 7, 0, 8, 8, 8, 0, 7, 7, 7, 8, 7, 0, 7, 7, 0, 7, 7, 2, 0, 7, 0, 7, 0, 8, 7, 6, 7, 0, 0, 2, 0, 0, 0, 7, 7, 0, 7, 3, 7, 8, 7, 7, 7, 7, 8, 0, 2, 0, 7, 7, 0, 7, 7, 7, 3, 7, 7, 2, 8, 0, 7, 0, 0, 7, 7, 7, 2, 7, 8, 7, 0, 7, 0, 7, 7, 0, 7, 7, 7, 7, 7, 7, 7, 7, 0, 7, 7, 7, 7, 7, 0, 7, 0, 2, 7, 7, 0, 7, 7, 8, 7, 7, 7, 7, 7, 7, 7, 8, 7, 0, 8, 7, 2, 7, 9, 7, 0, 7, 2, 7, 2, 0, 6, 7, 7, 7, 0, 7, 7, 7, 7, 0, 7, 7, 7, 7, 7, 7, 7, 7, 0, 7, 7, 7, 0, 0, 7, 0, 7, 7, 7, 7, 7, 7, 7, 7, 0, 7, 7, 7, 7, 7, 7, 0, 0, 7, 8, 0, 0, 7, 7, 7, 7, 0, 0, 7, 7, 7, 7, 7, 7, 7, 7, 0, 0, 7, 0, 7, 7, 7, 2, 0, 7, 7, 2, 2, 7, 2, 7, 6, 7, 7, 7, 7, 7, 2, 2, 5, 7, 2, 2, 7, 7, 7, 7, 7, 7, 2, 6, 7, 6, 7, 7, 8, 0, 7, 7, 2, 7, 7, 7, 6, 7, 9, 7, 6, 6, 8, 0, 7, 0, 6, 7, 7, 7, 7, 7, 7, 2, 6, 7, 8, 7, 7, 7, 7, 0, 2, 6, 6, 7, 5, 7, 8, 7, 2, 7, 7, 7, 6, 7, 2, 7, 8, 7, 7, 6, 7, 2, 2, 7, 2, 7, 7, 2, 2, 2, 7, 7, 8, 7, 5, 1, 7, 2, 2, 2, 2, 2, 8, 2, 7, 7, 7, 2, 7, 6, 8, 2, 7, 8, 8, 7, 7, 6, 8, 7, 2, 2, 2, 7, 7, 7, 2, 7, 7, 8, 0, 3, 0, 6, 6, 2, 5, 7, 7, 7, 7, 5, 0, 7, 7, 7, 7, 8, 7, 8, 2, 5, 7, 7, 2, 7, 7, 5, 7, 7, 8, 2, 2, 2, 2, 3, 3, 8, 7, 2, 2, 0, 2, 7, 7, 7, 2, 7, 2, 7, 2, 2, 2, 2, 7, 2, 8, 8, 8, 7, 0, 2, 7, 7, 6, 5, 7, 7, 7, 7, 7, 7, 6, 7, 7, 7, 7, 6, 7, 8, 7, 2, 7, 2, 8, 2, 7, 2, 7, 2, 8, 5, 7, 7, 7, 3, 7, 8, 2, 2, 2, 5, 4, 9, 0, 7, 2, 2, 7, 5, 2, 7, 2, 8, 2, 8, 8, 8, 2, 0, 2, 7, 7, 2, 2, 2, 2, 4, 7, 7, 7, 7, 2, 7, 2, 7, 2, 1, 2, 2, 2, 2, 2, 2, 5, 2, 2, 2, 2, 9, 2, 5, 0, 0, 2, 8, 2, 2, 2, 7, 8, 7, 7, 8, 2, 7, 7, 0, 2, 5, 2, 2, 7, 7, 5, 0, 2, 7, 5, 7, 5, 8, 2, 2, 2, 8, 2, 7, 7, 7, 2, 7, 5, 2, 5, 8, 2, 2, 2, 7, 2, 2, 7, 2, 5, 2, 5, 5, 2, 2, 2, 7, 5, 7, 7, 7, 0, 2, 1, 2, 7, 8, 2, 7, 7, 2, 8, 7, 2, 7, 2, 2, 2, 7, 5, 8, 7, 8, 7, 2, 2, 2, 7, 2, 2, 7, 2, 7, 7, 2, 2, 2, 2, 2, 7, 7, 2, 5, 8, 2, 2, 2, 2, 7, 7, 7, 0, 2, 5, 2, 5, 7, 7, 2, 6, 6, 2, 2, 7, 2, 6, 6, 8, 7, 2, 6, 2, 1, 7, 8, 6, 7, 7, 7, 7, 8, 7, 7, 8, 6, 2, 0, 6, 2, 2, 2, 2, 2, 7, 7, 7, 7, 2, 2, 7, 6, 7, 7, 7, 6, 7, 8, 8, 0, 8, 6, 7, 7, 3, 2, 7, 7, 8, 8, 7, 5, 8, 8, 6, 7, 2, 7, 7, 7, 2, 7, 8, 8, 2, 7, 7, 7, 2, 8, 7, 7, 2, 1, 2, 0, 6, 7, 7, 7, 7, 2, 6, 7, 7, 8, 2, 7, 3, 7, 2, 8, 8, 7, 7, 7, 7, 6, 8, 5, 7, 2, 2, 6, 6, 2, 2, 7, 7, 7, 2, 7, 7, 6, 1, 7, 8, 2, 2, 2, 2, 2, 6, 7, 7, 2, 2, 7, 2, 7, 1, 7, 7, 1, 2, 8, 7, 8, 7, 7, 6, 7, 2, 7, 7, 1, 6, 7, 7, 7, 6, 5, 7, 7, 2, 7, 7, 3, 2, 1, 7, 7, 2, 2, 2, 2, 7, 7, 8, 2, 7, 2, 8, 1, 6, 2, 7, 7, 8, 2, 1, 7, 8, 8, 2, 6, 7, 7, 2, 7, 5, 7, 1, 8, 8, 7, 2, 8, 7, 7, 7, 7, 6, 8, 2, 2, 7, 7, 6, 8, 7, 6, 7, 8, 2, 8, 2, 2, 7, 2, 7, 8, 8, 1, 6, 6, 0, 2, 4, 7, 7, 5, 7, 7, 0, 7, 5, 5, 0, 0, 7, 7, 5, 0, 5, 0, 5, 6, 5, 6, 6, 5, 6, 0, 5, 0, 5, 1, 0, 0, 7, 0, 5, 5, 5, 6, 6, 5, 0, 6, 7, 0, 5, 0, 6, 5, 5, 5, 2, 7, 0, 6, 0, 4, 6, 5, 7, 2, 5, 0, 1, 5, 5, 5, 0, 0, 0, 0, 6, 2, 6, 5, 0, 7, 7, 6, 5, 4, 7, 3, 0, 0, 0, 5, 6, 6, 0, 0, 6, 6, 0, 9, 6, 6, 2, 6, 0, 5, 0, 5, 6, 3, 5, 7, 7, 5, 0, 0, 6, 6, 6, 1, 0, 0, 0, 0, 2, 6, 5, 7, 7, 5, 5, 2, 8, 0, 5, 5, 4, 0, 5, 9, 5, 6, 5, 8, 6, 7, 0, 6, 7, 0, 6, 7, 0, 0, 7, 7, 8, 6, 9, 7, 5, 5, 0, 9, 8, 0, 0, 8, 2, 6, 1, 5, 0, 5, 5, 2, 0, 5, 5, 6, 0, 6, 2, 2, 6, 5, 5, 0, 2, 5, 7, 8, 7, 7, 7, 7, 8, 5, 0, 1, 0, 5, 8, 0, 1, 5, 6, 9, 5, 5, 5, 5, 0, 5, 2, 6, 6, 0, 7, 0, 5, 0, 6, 5, 4, 1, 0, 0, 0, 5, 0, 7, 1, 6, 5, 5, 5, 8, 7, 6, 8, 6, 2, 2, 0, 2, 7, 7, 8, 7, 8, 2, 2, 2, 8, 7, 8, 2, 6, 2, 2, 7, 0, 2, 7, 2, 8, 7, 2, 8, 2, 2, 7, 2, 8, 8, 8, 7, 7, 8, 0, 2, 7, 2, 2, 2, 8, 2, 7, 2, 7, 8, 0, 7, 8, 2, 2, 8, 0, 2, 2, 2, 2, 2, 8, 8, 8, 7, 7, 8, 0, 6, 7, 2, 2, 2, 2, 2, 2, 2, 2, 2, 8, 8, 2, 2, 8, 2, 2, 9, 2, 7, 7, 8, 8, 7, 2, 7, 2, 7, 8, 2, 0, 7, 8, 2, 7, 2, 7, 2, 7, 8, 7, 2, 7, 2, 7, 7, 7, 7, 7, 0, 8, 6, 2, 8, 5, 8, 7, 2, 2, 7, 8, 8, 2, 2, 2, 2, 7, 8, 2, 2, 2, 2, 2, 0, 2, 7, 2, 7, 2, 2, 8, 0, 2, 7, 0, 7, 7, 8, 7, 8, 2, 8, 2, 7, 2, 2, 2, 7, 8, 2, 2, 2, 2, 7, 0, 2, 8, 7, 2, 2, 2, 7, 2, 0, 7, 7, 2, 2, 2, 2, 2, 2, 8, 2, 2, 8, 7, 0, 7, 7, 8, 2, 2, 7, 6, 8, 2, 7, 2, 2, 2, 8, 2, 7, 8, 7, 2, 2, 2, 2, 2, 8, 7, 2, 2, 7, 7, 2, 0, 7, 1, 2, 8, 2, 2, 7, 2, 2, 2, 0, 7, 2, 2, 7, 2, 2, 2, 2, 7, 7, 7, 2, 2, 7, 2, 7, 7, 8, 7, 7, 2, 1, 7, 7, 2, 2, 7, 7, 7, 2, 8, 8, 7, 7, 6, 0, 8, 2, 2, 0, 7, 2, 7, 8, 2, 2, 2, 2, 7, 2, 2, 0, 0, 2, 7, 7, 2, 2, 7, 2, 8, 2, 6, 2, 2, 8, 2, 2, 7, 2, 7, 2, 7, 8, 2, 8, 2, 2, 8, 2, 2, 2, 7, 7, 8, 7, 2, 0, 7, 2, 2, 2, 7, 2, 2, 8, 8, 8, 7, 2, 0, 8, 7, 2, 7, 0, 7, 2, 2, 2, 2, 2, 2, 8, 2, 2, 4, 2, 0, 8, 8, 2, 8, 2, 2, 5, 2, 2, 2, 0, 2, 2, 7, 2, 2, 2, 7, 2, 7, 2, 4, 7, 2, 2, 2, 7, 7, 7, 2, 0, 8, 2, 8, 7, 4, 2, 7, 7, 2, 7, 8, 2, 8, 2, 7, 0, 7, 2, 2, 2, 2, 8, 2, 7, 2, 5, 2, 2, 2, 8, 8, 2, 2, 2, 7, 8, 2, 2, 2, 8, 8, 2, 3, 8, 8, 7, 7, 8, 2, 2, 2, 2, 8, 8, 8, 7, 2, 2, 8, 8, 8, 8, 8, 2, 2, 2, 2, 2, 8, 8, 2, 2, 8, 8, 7, 2, 7, 8, 7, 7, 7, 6, 6, 7, 8, 2, 8, 7, 6, 2, 2, 7, 8, 8, 2, 8, 2, 2, 2, 8, 8, 7, 8, 8, 8, 2, 8, 2, 7, 2, 7, 8, 6, 7, 2, 2, 2, 2, 2, 8, 2, 2, 7, 1, 2, 2, 2, 2, 8, 1, 2, 2, 7, 7, 2, 2, 2, 8, 8, 2, 2, 2, 2, 2, 7, 6, 8, 7, 2, 7, 7, 7, 7, 2, 8, 8, 2, 2, 2, 2, 2, 8, 8, 8, 7, 2, 4, 2, 7, 7, 8, 8, 2, 2, 8, 2, 2, 6, 2, 7, 8, 2, 2, 2, 2, 2, 2, 2, 2, 0, 2, 7, 8, 7, 5, 2, 3, 8, 7, 8, 6, 8, 2, 8, 8, 7, 2, 2, 2, 8, 2, 8, 8, 8, 2, 8, 2, 8, 2, 8, 2, 2, 8, 2, 2, 8, 8, 7, 8, 2, 2, 8, 8, 2, 7, 2, 2, 7, 8, 2, 8, 7, 8, 8, 2, 7, 8, 2, 8, 8, 7, 8, 8, 1, 0, 5, 0, 3, 6, 3, 0, 3, 3, 3, 5, 0, 0, 3, 0, 0, 0, 5, 0, 5, 5, 0, 8, 0, 0, 1, 5, 0, 8, 3, 0, 5, 3, 3, 0, 0, 0, 5, 0, 0, 0, 0, 0, 8, 0, 8, 0, 5, 0, 3, 5, 3, 7, 3, 7, 3, 0, 0, 0, 0, 0, 0, 5, 8, 1, 0, 0, 5, 3, 0, 8, 3, 0, 5, 0, 1, 0, 3, 0, 6, 6, 6, 0, 3, 8, 0, 5, 3, 0, 0, 3, 3, 3, 0, 0, 3, 1, 7, 5, 0, 0, 9, 3, 0, 0, 3, 0, 0, 3, 0, 5, 0, 0, 0, 3, 3, 3, 0, 0, 0, 5, 5, 0, 0, 0, 0, 3, 0, 3, 5, 6, 3, 0, 0, 3, 0, 3, 3, 0, 9, 0, 0, 0, 0, 3, 5, 0, 5, 0, 0, 0, 0, 0, 3, 3, 3, 0, 0, 3, 3, 0, 0, 0, 1, 5, 0, 5, 0, 9, 3, 0, 3, 0, 5, 0, 0, 0, 8, 8, 3, 0, 3, 0, 0, 0, 3, 5, 5, 8, 0, 6, 0, 0, 0, 0, 0, 0, 0, 3, 0, 3, 3, 0, 3, 6, 0, 0, 0, 0, 3, 0, 0, 0, 5, 5, 5, 3, 0, 3, 5, 0, 5, 5, 6, 5, 3, 0, 0, 6, 3, 0, 5, 5, 8, 7, 3, 0, 0, 2, 2, 0, 0, 0, 2, 0, 2, 2, 0, 0, 0, 7, 2, 0, 0, 0, 2, 2, 0, 1, 2, 0, 0, 2, 0, 0, 2, 0, 2, 7, 0, 0, 0, 0, 0, 2, 0, 0, 2, 2, 0, 2, 7, 0, 0, 2, 2, 2, 0, 0, 2, 2, 0, 0, 0, 0, 0, 2, 8, 2, 0, 0, 0, 0, 0, 2, 7, 0, 2, 0, 2, 0, 2, 0, 2, 2, 0, 0, 0, 0, 0, 0, 0, 0, 0, 0, 0, 0, 0, 8, 8, 2, 0, 0, 0, 0, 0, 0, 7, 0, 0, 0, 7, 0, 0, 7, 7, 0, 7, 0, 7, 0, 2, 0, 8, 0, 2, 0, 0, 2, 0, 0, 0, 0, 0, 2, 2, 0, 7, 7, 0, 0, 0, 2, 0, 0, 4, 2, 0, 0, 0, 0, 0, 2, 2, 0, 8, 0, 7, 2, 2, 0, 2, 2, 7, 7, 0, 0, 0, 0, 6, 7, 2, 2, 0, 2, 0, 0, 0, 0, 7, 2, 6, 1, 6, 6, 7, 2, 2, 2, 2, 2, 6, 7, 7, 2, 2, 7, 6, 7, 6, 1, 8, 2, 6, 2, 6, 7, 6, 2, 2, 6, 2, 6, 2, 5, 6, 7, 6, 6, 2, 2, 6, 2, 8, 2, 7, 7, 2, 7, 2, 7, 2, 2, 2, 2, 2, 1, 2, 8, 7, 7, 7, 7, 2, 6, 9, 6, 7, 6, 2, 5, 2, 7, 2, 8, 7, 6, 2, 7, 7, 2, 7, 8, 6, 7, 7, 6, 6, 2, 2, 7, 2, 2, 6, 2, 6, 8, 7, 7, 2, 2, 2, 6, 6, 7, 1, 3, 2, 7, 6, 2, 6, 6, 8, 7, 7, 6, 6, 7, 2, 2, 2, 6, 6, 2, 6, 6, 7, 6, 2, 6, 6, 6, 2, 2, 2, 7, 7, 2, 7, 2, 2, 7, 7, 2, 7, 7, 7, 2, 2, 2, 2, 2, 2, 7, 6, 6, 8, 7, 6, 2, 9, 2, 6, 2, 8, 2, 2, 2, 6, 6, 2, 6, 0, 2, 6, 8, 8, 6, 8, 7, 6, 7, 8, 2, 7, 2, 2, 2, 6, 7, 7, 7, 8, 6, 7, 2, 2, 2, 7, 7, 6, 8, 6, 6, 8, 7, 2, 7, 7, 2, 2, 2, 2, 2, 6, 6, 2, 6, 6, 7, 7, 7, 7, 7, 7, 7, 7, 2, 7, 6, 6, 6, 8, 2, 7, 6, 7, 7, 2, 2, 7, 2, 7, 2, 2, 2, 2, 7, 0, 2, 2, 7, 2, 7, 8, 7, 2, 2, 2, 2, 7, 8, 7, 4, 2, 7, 2, 2, 2, 2, 2, 2, 7, 7, 2, 2, 2, 2, 2, 7, 7, 7, 7, 2, 2, 7, 2, 0, 7, 7, 2, 5, 2, 2, 8, 6, 2, 2, 2, 8, 2, 7, 7, 6, 2, 2, 2, 2, 7, 2, 7, 2, 2, 2, 2, 2, 7, 7, 2, 7, 2, 2, 8, 2, 8, 2, 7, 8, 2, 5, 2, 2, 2, 2, 2, 7, 7, 8, 2, 2, 2, 2, 2, 6, 8, 2, 5, 2, 2, 2, 2, 2, 7, 2, 7, 7, 2, 6, 2, 2, 7, 2, 7, 2, 2, 6, 7, 2, 8, 0, 2, 2, 8, 2, 2, 0, 2, 6, 2, 7, 2, 2, 2, 2, 7, 2, 2, 7, 0, 2, 8, 2, 2, 2, 2, 2, 2, 8, 7, 8, 7, 8, 2, 7, 2, 2, 8, 2, 7, 2, 2, 2, 2, 7, 7, 8, 5, 2, 2, 2, 2, 2, 2, 7, 2, 6, 2, 7, 2, 2, 6, 8, 6, 2, 7, 7, 2, 2, 8, 5, 7, 8, 8, 7, 8, 6, 2, 2, 2, 2, 2, 2, 7, 2, 7, 2, 2, 7, 7, 2, 7, 2, 8, 7, 7, 2, 0, 2, 7, 7, 8, 8, 2]\n"
     ],
     "output_type": "stream"
    }
   ],
   "source": [
    "print(predicted)"
   ],
   "metadata": {
    "collapsed": false,
    "pycharm": {
     "name": "#%%\n",
     "is_executing": false
    }
   }
  },
  {
   "cell_type": "code",
   "execution_count": 10,
   "outputs": [
    {
     "data": {
      "text/plain": "<Figure size 432x288 with 0 Axes>"
     },
     "metadata": {},
     "output_type": "display_data"
    }
   ],
   "source": [],
   "metadata": {
    "collapsed": false,
    "pycharm": {
     "name": "#%%\n",
     "is_executing": false
    }
   }
  }
 ],
 "metadata": {
  "kernelspec": {
   "display_name": "Python 3",
   "language": "python",
   "name": "python3"
  },
  "language_info": {
   "codemirror_mode": {
    "name": "ipython",
    "version": 2
   },
   "file_extension": ".py",
   "mimetype": "text/x-python",
   "name": "python",
   "nbconvert_exporter": "python",
   "pygments_lexer": "ipython2",
   "version": "2.7.6"
  },
  "pycharm": {
   "stem_cell": {
    "cell_type": "raw",
    "source": [],
    "metadata": {
     "collapsed": false
    }
   }
  }
 },
 "nbformat": 4,
 "nbformat_minor": 0
}